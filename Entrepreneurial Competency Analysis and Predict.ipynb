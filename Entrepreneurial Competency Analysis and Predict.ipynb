{
 "cells": [
  {
   "cell_type": "markdown",
   "id": "5e07e49f",
   "metadata": {},
   "source": [
    "### Entrepreneurial Competency Analysis and Predict"
   ]
  },
  {
   "cell_type": "code",
   "execution_count": 1,
   "id": "2603f4ba",
   "metadata": {},
   "outputs": [],
   "source": [
    "import pandas as pd\n",
    "import numpy as np\n",
    "import seaborn as sns\n",
    "import matplotlib as mat\n",
    "import matplotlib.pyplot as plt\n",
    "import warnings\n",
    "warnings.filterwarnings(\"ignore\")"
   ]
  },
  {
   "cell_type": "code",
   "execution_count": 2,
   "id": "1e4a2967",
   "metadata": {},
   "outputs": [],
   "source": [
    "data = pd.read_csv('entrepreneurial competency.csv')"
   ]
  },
  {
   "cell_type": "code",
   "execution_count": 3,
   "id": "2b3b5ed3",
   "metadata": {},
   "outputs": [
    {
     "data": {
      "text/html": [
       "<div>\n",
       "<style scoped>\n",
       "    .dataframe tbody tr th:only-of-type {\n",
       "        vertical-align: middle;\n",
       "    }\n",
       "\n",
       "    .dataframe tbody tr th {\n",
       "        vertical-align: top;\n",
       "    }\n",
       "\n",
       "    .dataframe thead th {\n",
       "        text-align: right;\n",
       "    }\n",
       "</style>\n",
       "<table border=\"1\" class=\"dataframe\">\n",
       "  <thead>\n",
       "    <tr style=\"text-align: right;\">\n",
       "      <th></th>\n",
       "      <th>EducationSector</th>\n",
       "      <th>IndividualProject</th>\n",
       "      <th>Age</th>\n",
       "      <th>Gender</th>\n",
       "      <th>City</th>\n",
       "      <th>Influenced</th>\n",
       "      <th>Perseverance</th>\n",
       "      <th>DesireToTakeInitiative</th>\n",
       "      <th>Competitiveness</th>\n",
       "      <th>SelfReliance</th>\n",
       "      <th>StrongNeedToAchieve</th>\n",
       "      <th>SelfConfidence</th>\n",
       "      <th>GoodPhysicalHealth</th>\n",
       "      <th>MentalDisorder</th>\n",
       "      <th>KeyTraits</th>\n",
       "      <th>ReasonsForLack</th>\n",
       "      <th>y</th>\n",
       "    </tr>\n",
       "  </thead>\n",
       "  <tbody>\n",
       "    <tr>\n",
       "      <th>0</th>\n",
       "      <td>Engineering Sciences</td>\n",
       "      <td>No</td>\n",
       "      <td>19</td>\n",
       "      <td>Male</td>\n",
       "      <td>Yes</td>\n",
       "      <td>No</td>\n",
       "      <td>2</td>\n",
       "      <td>2</td>\n",
       "      <td>3</td>\n",
       "      <td>3</td>\n",
       "      <td>2</td>\n",
       "      <td>2</td>\n",
       "      <td>3</td>\n",
       "      <td>Yes</td>\n",
       "      <td>Passion</td>\n",
       "      <td>NaN</td>\n",
       "      <td>1</td>\n",
       "    </tr>\n",
       "    <tr>\n",
       "      <th>1</th>\n",
       "      <td>Engineering Sciences</td>\n",
       "      <td>Yes</td>\n",
       "      <td>22</td>\n",
       "      <td>Male</td>\n",
       "      <td>No</td>\n",
       "      <td>Yes</td>\n",
       "      <td>3</td>\n",
       "      <td>3</td>\n",
       "      <td>3</td>\n",
       "      <td>4</td>\n",
       "      <td>4</td>\n",
       "      <td>3</td>\n",
       "      <td>4</td>\n",
       "      <td>Yes</td>\n",
       "      <td>Vision</td>\n",
       "      <td>Just not interested! (Want to work in the corp...</td>\n",
       "      <td>0</td>\n",
       "    </tr>\n",
       "    <tr>\n",
       "      <th>2</th>\n",
       "      <td>Engineering Sciences</td>\n",
       "      <td>No</td>\n",
       "      <td>18</td>\n",
       "      <td>Male</td>\n",
       "      <td>Yes</td>\n",
       "      <td>No</td>\n",
       "      <td>3</td>\n",
       "      <td>4</td>\n",
       "      <td>3</td>\n",
       "      <td>3</td>\n",
       "      <td>3</td>\n",
       "      <td>4</td>\n",
       "      <td>4</td>\n",
       "      <td>No</td>\n",
       "      <td>Passion</td>\n",
       "      <td>Not willing to start a venture in India and wa...</td>\n",
       "      <td>0</td>\n",
       "    </tr>\n",
       "    <tr>\n",
       "      <th>3</th>\n",
       "      <td>Engineering Sciences</td>\n",
       "      <td>Yes</td>\n",
       "      <td>20</td>\n",
       "      <td>Male</td>\n",
       "      <td>Yes</td>\n",
       "      <td>Yes</td>\n",
       "      <td>3</td>\n",
       "      <td>3</td>\n",
       "      <td>3</td>\n",
       "      <td>3</td>\n",
       "      <td>4</td>\n",
       "      <td>3</td>\n",
       "      <td>3</td>\n",
       "      <td>No</td>\n",
       "      <td>Resilience</td>\n",
       "      <td>Not able to take a Financial Risk</td>\n",
       "      <td>0</td>\n",
       "    </tr>\n",
       "    <tr>\n",
       "      <th>4</th>\n",
       "      <td>Engineering Sciences</td>\n",
       "      <td>Yes</td>\n",
       "      <td>19</td>\n",
       "      <td>Male</td>\n",
       "      <td>Yes</td>\n",
       "      <td>Yes</td>\n",
       "      <td>2</td>\n",
       "      <td>3</td>\n",
       "      <td>3</td>\n",
       "      <td>3</td>\n",
       "      <td>4</td>\n",
       "      <td>3</td>\n",
       "      <td>2</td>\n",
       "      <td>Yes</td>\n",
       "      <td>Vision</td>\n",
       "      <td>NaN</td>\n",
       "      <td>1</td>\n",
       "    </tr>\n",
       "  </tbody>\n",
       "</table>\n",
       "</div>"
      ],
      "text/plain": [
       "        EducationSector IndividualProject  Age Gender City Influenced  \\\n",
       "0  Engineering Sciences                No   19   Male  Yes         No   \n",
       "1  Engineering Sciences               Yes   22   Male   No        Yes   \n",
       "2  Engineering Sciences                No   18   Male  Yes         No   \n",
       "3  Engineering Sciences               Yes   20   Male  Yes        Yes   \n",
       "4  Engineering Sciences               Yes   19   Male  Yes        Yes   \n",
       "\n",
       "   Perseverance  DesireToTakeInitiative  Competitiveness  SelfReliance  \\\n",
       "0             2                       2                3             3   \n",
       "1             3                       3                3             4   \n",
       "2             3                       4                3             3   \n",
       "3             3                       3                3             3   \n",
       "4             2                       3                3             3   \n",
       "\n",
       "   StrongNeedToAchieve  SelfConfidence  GoodPhysicalHealth MentalDisorder  \\\n",
       "0                    2               2                   3            Yes   \n",
       "1                    4               3                   4            Yes   \n",
       "2                    3               4                   4             No   \n",
       "3                    4               3                   3             No   \n",
       "4                    4               3                   2            Yes   \n",
       "\n",
       "    KeyTraits                                     ReasonsForLack  y  \n",
       "0     Passion                                                NaN  1  \n",
       "1      Vision  Just not interested! (Want to work in the corp...  0  \n",
       "2     Passion  Not willing to start a venture in India and wa...  0  \n",
       "3  Resilience                  Not able to take a Financial Risk  0  \n",
       "4      Vision                                                NaN  1  "
      ]
     },
     "execution_count": 3,
     "metadata": {},
     "output_type": "execute_result"
    }
   ],
   "source": [
    "data.head()"
   ]
  },
  {
   "cell_type": "code",
   "execution_count": 4,
   "id": "d73134ef",
   "metadata": {},
   "outputs": [
    {
     "data": {
      "text/html": [
       "<div>\n",
       "<style scoped>\n",
       "    .dataframe tbody tr th:only-of-type {\n",
       "        vertical-align: middle;\n",
       "    }\n",
       "\n",
       "    .dataframe tbody tr th {\n",
       "        vertical-align: top;\n",
       "    }\n",
       "\n",
       "    .dataframe thead th {\n",
       "        text-align: right;\n",
       "    }\n",
       "</style>\n",
       "<table border=\"1\" class=\"dataframe\">\n",
       "  <thead>\n",
       "    <tr style=\"text-align: right;\">\n",
       "      <th></th>\n",
       "      <th>Age</th>\n",
       "      <th>Perseverance</th>\n",
       "      <th>DesireToTakeInitiative</th>\n",
       "      <th>Competitiveness</th>\n",
       "      <th>SelfReliance</th>\n",
       "      <th>StrongNeedToAchieve</th>\n",
       "      <th>SelfConfidence</th>\n",
       "      <th>GoodPhysicalHealth</th>\n",
       "      <th>y</th>\n",
       "    </tr>\n",
       "  </thead>\n",
       "  <tbody>\n",
       "    <tr>\n",
       "      <th>count</th>\n",
       "      <td>219.000000</td>\n",
       "      <td>219.000000</td>\n",
       "      <td>219.000000</td>\n",
       "      <td>219.000000</td>\n",
       "      <td>219.000000</td>\n",
       "      <td>219.000000</td>\n",
       "      <td>219.000000</td>\n",
       "      <td>219.000000</td>\n",
       "      <td>219.000000</td>\n",
       "    </tr>\n",
       "    <tr>\n",
       "      <th>mean</th>\n",
       "      <td>19.753425</td>\n",
       "      <td>3.351598</td>\n",
       "      <td>3.621005</td>\n",
       "      <td>3.589041</td>\n",
       "      <td>3.721461</td>\n",
       "      <td>3.908676</td>\n",
       "      <td>3.575342</td>\n",
       "      <td>3.561644</td>\n",
       "      <td>0.415525</td>\n",
       "    </tr>\n",
       "    <tr>\n",
       "      <th>std</th>\n",
       "      <td>1.289842</td>\n",
       "      <td>0.995234</td>\n",
       "      <td>1.152467</td>\n",
       "      <td>1.110859</td>\n",
       "      <td>1.053629</td>\n",
       "      <td>1.023068</td>\n",
       "      <td>1.120098</td>\n",
       "      <td>1.100287</td>\n",
       "      <td>0.493941</td>\n",
       "    </tr>\n",
       "    <tr>\n",
       "      <th>min</th>\n",
       "      <td>17.000000</td>\n",
       "      <td>1.000000</td>\n",
       "      <td>1.000000</td>\n",
       "      <td>1.000000</td>\n",
       "      <td>1.000000</td>\n",
       "      <td>1.000000</td>\n",
       "      <td>1.000000</td>\n",
       "      <td>1.000000</td>\n",
       "      <td>0.000000</td>\n",
       "    </tr>\n",
       "    <tr>\n",
       "      <th>25%</th>\n",
       "      <td>19.000000</td>\n",
       "      <td>3.000000</td>\n",
       "      <td>3.000000</td>\n",
       "      <td>3.000000</td>\n",
       "      <td>3.000000</td>\n",
       "      <td>3.000000</td>\n",
       "      <td>3.000000</td>\n",
       "      <td>3.000000</td>\n",
       "      <td>0.000000</td>\n",
       "    </tr>\n",
       "    <tr>\n",
       "      <th>50%</th>\n",
       "      <td>20.000000</td>\n",
       "      <td>3.000000</td>\n",
       "      <td>4.000000</td>\n",
       "      <td>4.000000</td>\n",
       "      <td>4.000000</td>\n",
       "      <td>4.000000</td>\n",
       "      <td>4.000000</td>\n",
       "      <td>4.000000</td>\n",
       "      <td>0.000000</td>\n",
       "    </tr>\n",
       "    <tr>\n",
       "      <th>75%</th>\n",
       "      <td>20.000000</td>\n",
       "      <td>4.000000</td>\n",
       "      <td>5.000000</td>\n",
       "      <td>4.500000</td>\n",
       "      <td>5.000000</td>\n",
       "      <td>5.000000</td>\n",
       "      <td>4.000000</td>\n",
       "      <td>4.000000</td>\n",
       "      <td>1.000000</td>\n",
       "    </tr>\n",
       "    <tr>\n",
       "      <th>max</th>\n",
       "      <td>26.000000</td>\n",
       "      <td>5.000000</td>\n",
       "      <td>5.000000</td>\n",
       "      <td>5.000000</td>\n",
       "      <td>5.000000</td>\n",
       "      <td>5.000000</td>\n",
       "      <td>5.000000</td>\n",
       "      <td>5.000000</td>\n",
       "      <td>1.000000</td>\n",
       "    </tr>\n",
       "  </tbody>\n",
       "</table>\n",
       "</div>"
      ],
      "text/plain": [
       "              Age  Perseverance  DesireToTakeInitiative  Competitiveness  \\\n",
       "count  219.000000    219.000000              219.000000       219.000000   \n",
       "mean    19.753425      3.351598                3.621005         3.589041   \n",
       "std      1.289842      0.995234                1.152467         1.110859   \n",
       "min     17.000000      1.000000                1.000000         1.000000   \n",
       "25%     19.000000      3.000000                3.000000         3.000000   \n",
       "50%     20.000000      3.000000                4.000000         4.000000   \n",
       "75%     20.000000      4.000000                5.000000         4.500000   \n",
       "max     26.000000      5.000000                5.000000         5.000000   \n",
       "\n",
       "       SelfReliance  StrongNeedToAchieve  SelfConfidence  GoodPhysicalHealth  \\\n",
       "count    219.000000           219.000000      219.000000          219.000000   \n",
       "mean       3.721461             3.908676        3.575342            3.561644   \n",
       "std        1.053629             1.023068        1.120098            1.100287   \n",
       "min        1.000000             1.000000        1.000000            1.000000   \n",
       "25%        3.000000             3.000000        3.000000            3.000000   \n",
       "50%        4.000000             4.000000        4.000000            4.000000   \n",
       "75%        5.000000             5.000000        4.000000            4.000000   \n",
       "max        5.000000             5.000000        5.000000            5.000000   \n",
       "\n",
       "                y  \n",
       "count  219.000000  \n",
       "mean     0.415525  \n",
       "std      0.493941  \n",
       "min      0.000000  \n",
       "25%      0.000000  \n",
       "50%      0.000000  \n",
       "75%      1.000000  \n",
       "max      1.000000  "
      ]
     },
     "execution_count": 4,
     "metadata": {},
     "output_type": "execute_result"
    }
   ],
   "source": [
    "data.describe()"
   ]
  },
  {
   "cell_type": "code",
   "execution_count": 5,
   "id": "e3662f1b",
   "metadata": {},
   "outputs": [
    {
     "data": {
      "text/html": [
       "<div>\n",
       "<style scoped>\n",
       "    .dataframe tbody tr th:only-of-type {\n",
       "        vertical-align: middle;\n",
       "    }\n",
       "\n",
       "    .dataframe tbody tr th {\n",
       "        vertical-align: top;\n",
       "    }\n",
       "\n",
       "    .dataframe thead th {\n",
       "        text-align: right;\n",
       "    }\n",
       "</style>\n",
       "<table border=\"1\" class=\"dataframe\">\n",
       "  <thead>\n",
       "    <tr style=\"text-align: right;\">\n",
       "      <th></th>\n",
       "      <th>Age</th>\n",
       "      <th>Perseverance</th>\n",
       "      <th>DesireToTakeInitiative</th>\n",
       "      <th>Competitiveness</th>\n",
       "      <th>SelfReliance</th>\n",
       "      <th>StrongNeedToAchieve</th>\n",
       "      <th>SelfConfidence</th>\n",
       "      <th>GoodPhysicalHealth</th>\n",
       "      <th>y</th>\n",
       "    </tr>\n",
       "  </thead>\n",
       "  <tbody>\n",
       "    <tr>\n",
       "      <th>Age</th>\n",
       "      <td>1.000000</td>\n",
       "      <td>-0.021489</td>\n",
       "      <td>-0.060069</td>\n",
       "      <td>0.044206</td>\n",
       "      <td>0.036990</td>\n",
       "      <td>-0.034524</td>\n",
       "      <td>-0.002958</td>\n",
       "      <td>0.004295</td>\n",
       "      <td>-0.018444</td>\n",
       "    </tr>\n",
       "    <tr>\n",
       "      <th>Perseverance</th>\n",
       "      <td>-0.021489</td>\n",
       "      <td>1.000000</td>\n",
       "      <td>0.644626</td>\n",
       "      <td>0.712176</td>\n",
       "      <td>0.662511</td>\n",
       "      <td>0.630872</td>\n",
       "      <td>0.591310</td>\n",
       "      <td>0.489082</td>\n",
       "      <td>0.028037</td>\n",
       "    </tr>\n",
       "    <tr>\n",
       "      <th>DesireToTakeInitiative</th>\n",
       "      <td>-0.060069</td>\n",
       "      <td>0.644626</td>\n",
       "      <td>1.000000</td>\n",
       "      <td>0.709056</td>\n",
       "      <td>0.619094</td>\n",
       "      <td>0.596888</td>\n",
       "      <td>0.638758</td>\n",
       "      <td>0.505063</td>\n",
       "      <td>0.092578</td>\n",
       "    </tr>\n",
       "    <tr>\n",
       "      <th>Competitiveness</th>\n",
       "      <td>0.044206</td>\n",
       "      <td>0.712176</td>\n",
       "      <td>0.709056</td>\n",
       "      <td>1.000000</td>\n",
       "      <td>0.669914</td>\n",
       "      <td>0.584374</td>\n",
       "      <td>0.600111</td>\n",
       "      <td>0.538735</td>\n",
       "      <td>0.028401</td>\n",
       "    </tr>\n",
       "    <tr>\n",
       "      <th>SelfReliance</th>\n",
       "      <td>0.036990</td>\n",
       "      <td>0.662511</td>\n",
       "      <td>0.619094</td>\n",
       "      <td>0.669914</td>\n",
       "      <td>1.000000</td>\n",
       "      <td>0.691219</td>\n",
       "      <td>0.614498</td>\n",
       "      <td>0.535205</td>\n",
       "      <td>0.082386</td>\n",
       "    </tr>\n",
       "    <tr>\n",
       "      <th>StrongNeedToAchieve</th>\n",
       "      <td>-0.034524</td>\n",
       "      <td>0.630872</td>\n",
       "      <td>0.596888</td>\n",
       "      <td>0.584374</td>\n",
       "      <td>0.691219</td>\n",
       "      <td>1.000000</td>\n",
       "      <td>0.622491</td>\n",
       "      <td>0.538856</td>\n",
       "      <td>0.075438</td>\n",
       "    </tr>\n",
       "    <tr>\n",
       "      <th>SelfConfidence</th>\n",
       "      <td>-0.002958</td>\n",
       "      <td>0.591310</td>\n",
       "      <td>0.638758</td>\n",
       "      <td>0.600111</td>\n",
       "      <td>0.614498</td>\n",
       "      <td>0.622491</td>\n",
       "      <td>1.000000</td>\n",
       "      <td>0.607560</td>\n",
       "      <td>0.088249</td>\n",
       "    </tr>\n",
       "    <tr>\n",
       "      <th>GoodPhysicalHealth</th>\n",
       "      <td>0.004295</td>\n",
       "      <td>0.489082</td>\n",
       "      <td>0.505063</td>\n",
       "      <td>0.538735</td>\n",
       "      <td>0.535205</td>\n",
       "      <td>0.538856</td>\n",
       "      <td>0.607560</td>\n",
       "      <td>1.000000</td>\n",
       "      <td>0.108800</td>\n",
       "    </tr>\n",
       "    <tr>\n",
       "      <th>y</th>\n",
       "      <td>-0.018444</td>\n",
       "      <td>0.028037</td>\n",
       "      <td>0.092578</td>\n",
       "      <td>0.028401</td>\n",
       "      <td>0.082386</td>\n",
       "      <td>0.075438</td>\n",
       "      <td>0.088249</td>\n",
       "      <td>0.108800</td>\n",
       "      <td>1.000000</td>\n",
       "    </tr>\n",
       "  </tbody>\n",
       "</table>\n",
       "</div>"
      ],
      "text/plain": [
       "                             Age  Perseverance  DesireToTakeInitiative  \\\n",
       "Age                     1.000000     -0.021489               -0.060069   \n",
       "Perseverance           -0.021489      1.000000                0.644626   \n",
       "DesireToTakeInitiative -0.060069      0.644626                1.000000   \n",
       "Competitiveness         0.044206      0.712176                0.709056   \n",
       "SelfReliance            0.036990      0.662511                0.619094   \n",
       "StrongNeedToAchieve    -0.034524      0.630872                0.596888   \n",
       "SelfConfidence         -0.002958      0.591310                0.638758   \n",
       "GoodPhysicalHealth      0.004295      0.489082                0.505063   \n",
       "y                      -0.018444      0.028037                0.092578   \n",
       "\n",
       "                        Competitiveness  SelfReliance  StrongNeedToAchieve  \\\n",
       "Age                            0.044206      0.036990            -0.034524   \n",
       "Perseverance                   0.712176      0.662511             0.630872   \n",
       "DesireToTakeInitiative         0.709056      0.619094             0.596888   \n",
       "Competitiveness                1.000000      0.669914             0.584374   \n",
       "SelfReliance                   0.669914      1.000000             0.691219   \n",
       "StrongNeedToAchieve            0.584374      0.691219             1.000000   \n",
       "SelfConfidence                 0.600111      0.614498             0.622491   \n",
       "GoodPhysicalHealth             0.538735      0.535205             0.538856   \n",
       "y                              0.028401      0.082386             0.075438   \n",
       "\n",
       "                        SelfConfidence  GoodPhysicalHealth         y  \n",
       "Age                          -0.002958            0.004295 -0.018444  \n",
       "Perseverance                  0.591310            0.489082  0.028037  \n",
       "DesireToTakeInitiative        0.638758            0.505063  0.092578  \n",
       "Competitiveness               0.600111            0.538735  0.028401  \n",
       "SelfReliance                  0.614498            0.535205  0.082386  \n",
       "StrongNeedToAchieve           0.622491            0.538856  0.075438  \n",
       "SelfConfidence                1.000000            0.607560  0.088249  \n",
       "GoodPhysicalHealth            0.607560            1.000000  0.108800  \n",
       "y                             0.088249            0.108800  1.000000  "
      ]
     },
     "execution_count": 5,
     "metadata": {},
     "output_type": "execute_result"
    }
   ],
   "source": [
    "data.corr()"
   ]
  },
  {
   "cell_type": "code",
   "execution_count": 6,
   "id": "27db9a2c",
   "metadata": {},
   "outputs": [
    {
     "data": {
      "text/plain": [
       "['EducationSector',\n",
       " 'IndividualProject',\n",
       " 'Age',\n",
       " 'Gender',\n",
       " 'City',\n",
       " 'Influenced',\n",
       " 'Perseverance',\n",
       " 'DesireToTakeInitiative',\n",
       " 'Competitiveness',\n",
       " 'SelfReliance',\n",
       " 'StrongNeedToAchieve',\n",
       " 'SelfConfidence',\n",
       " 'GoodPhysicalHealth',\n",
       " 'MentalDisorder',\n",
       " 'KeyTraits',\n",
       " 'ReasonsForLack',\n",
       " 'y']"
      ]
     },
     "execution_count": 6,
     "metadata": {},
     "output_type": "execute_result"
    }
   ],
   "source": [
    "list(data)"
   ]
  },
  {
   "cell_type": "code",
   "execution_count": 7,
   "id": "a624c9c5",
   "metadata": {},
   "outputs": [
    {
     "data": {
      "text/plain": [
       "(219, 17)"
      ]
     },
     "execution_count": 7,
     "metadata": {},
     "output_type": "execute_result"
    }
   ],
   "source": [
    "data.shape"
   ]
  },
  {
   "cell_type": "code",
   "execution_count": 8,
   "id": "0f1ff336",
   "metadata": {
    "scrolled": true
   },
   "outputs": [
    {
     "data": {
      "text/html": [
       "<div>\n",
       "<style scoped>\n",
       "    .dataframe tbody tr th:only-of-type {\n",
       "        vertical-align: middle;\n",
       "    }\n",
       "\n",
       "    .dataframe tbody tr th {\n",
       "        vertical-align: top;\n",
       "    }\n",
       "\n",
       "    .dataframe thead th {\n",
       "        text-align: right;\n",
       "    }\n",
       "</style>\n",
       "<table border=\"1\" class=\"dataframe\">\n",
       "  <thead>\n",
       "    <tr style=\"text-align: right;\">\n",
       "      <th></th>\n",
       "      <th>ReasonsForLack</th>\n",
       "    </tr>\n",
       "  </thead>\n",
       "  <tbody>\n",
       "    <tr>\n",
       "      <th>Just not interested! (Want to work in the corporate sector, or for the government or pursue research or something else)</th>\n",
       "      <td>41</td>\n",
       "    </tr>\n",
       "    <tr>\n",
       "      <th>Academic Pressure</th>\n",
       "      <td>11</td>\n",
       "    </tr>\n",
       "    <tr>\n",
       "      <th>Not willing to start a venture in India and waiting for future relocation</th>\n",
       "      <td>10</td>\n",
       "    </tr>\n",
       "    <tr>\n",
       "      <th>Lack of Knowledge</th>\n",
       "      <td>7</td>\n",
       "    </tr>\n",
       "    <tr>\n",
       "      <th>Academic Pressure, Unwillingness to take risk, Lack of Knowledge</th>\n",
       "      <td>4</td>\n",
       "    </tr>\n",
       "    <tr>\n",
       "      <th>Unwillingness to take risk</th>\n",
       "      <td>4</td>\n",
       "    </tr>\n",
       "    <tr>\n",
       "      <th>Just not interested! (Want to work in the corporate sector, or for the government or pursue research or something else), Lack of Knowledge, Not able to take a Financial Risk</th>\n",
       "      <td>4</td>\n",
       "    </tr>\n",
       "    <tr>\n",
       "      <th>Not able to take a Financial Risk</th>\n",
       "      <td>3</td>\n",
       "    </tr>\n",
       "    <tr>\n",
       "      <th>Lack of Knowledge, Not able to take a Financial Risk</th>\n",
       "      <td>3</td>\n",
       "    </tr>\n",
       "    <tr>\n",
       "      <th>Just not interested! (Want to work in the corporate sector, or for the government or pursue research or something else), Lack of Knowledge</th>\n",
       "      <td>2</td>\n",
       "    </tr>\n",
       "    <tr>\n",
       "      <th>Just not interested! (Want to work in the corporate sector, or for the government or pursue research or something else), Not able to take a Financial Risk</th>\n",
       "      <td>2</td>\n",
       "    </tr>\n",
       "    <tr>\n",
       "      <th>Just not interested! (Want to work in the corporate sector, or for the government or pursue research or something else), Academic Pressure, Lack of Knowledge, Not able to take a Financial Risk</th>\n",
       "      <td>2</td>\n",
       "    </tr>\n",
       "    <tr>\n",
       "      <th>Lack of Knowledge, Parental Pressure</th>\n",
       "      <td>2</td>\n",
       "    </tr>\n",
       "    <tr>\n",
       "      <th>Academic Pressure, Not able to take a Financial Risk</th>\n",
       "      <td>2</td>\n",
       "    </tr>\n",
       "    <tr>\n",
       "      <th>Academic Pressure, Lack of Knowledge, Not able to take a Financial Risk</th>\n",
       "      <td>2</td>\n",
       "    </tr>\n",
       "    <tr>\n",
       "      <th>Just not interested! (Want to work in the corporate sector, or for the government or pursue research or something else), Academic Pressure</th>\n",
       "      <td>1</td>\n",
       "    </tr>\n",
       "    <tr>\n",
       "      <th>Unwillingness to take risk, Lack of Knowledge, Not able to take a Financial Risk</th>\n",
       "      <td>1</td>\n",
       "    </tr>\n",
       "    <tr>\n",
       "      <th>Just not interested! (Want to work in the corporate sector, or for the government or pursue research or something else), Lack of Knowledge, Parental Pressure, Mental Block</th>\n",
       "      <td>1</td>\n",
       "    </tr>\n",
       "    <tr>\n",
       "      <th>Lack of Knowledge, Not willing to start a venture in India and waiting for future relocation</th>\n",
       "      <td>1</td>\n",
       "    </tr>\n",
       "    <tr>\n",
       "      <th>Parental Pressure</th>\n",
       "      <td>1</td>\n",
       "    </tr>\n",
       "    <tr>\n",
       "      <th>Just not interested! (Want to work in the corporate sector, or for the government or pursue research or something else), Academic Pressure, Parental Pressure</th>\n",
       "      <td>1</td>\n",
       "    </tr>\n",
       "    <tr>\n",
       "      <th>Lack of Knowledge, Mental Block, Not able to take a Financial Risk</th>\n",
       "      <td>1</td>\n",
       "    </tr>\n",
       "    <tr>\n",
       "      <th>Just not interested! (Want to work in the corporate sector, or for the government or pursue research or something else), Unwillingness to take risk, Lack of Knowledge</th>\n",
       "      <td>1</td>\n",
       "    </tr>\n",
       "    <tr>\n",
       "      <th>Just not interested! (Want to work in the corporate sector, or for the government or pursue research or something else), Academic Pressure, Lack of Knowledge, Parental Pressure, Not able to take a Financial Risk</th>\n",
       "      <td>1</td>\n",
       "    </tr>\n",
       "    <tr>\n",
       "      <th>Lack of Knowledge, Parental Pressure, Mental Block, Not able to take a Financial Risk</th>\n",
       "      <td>1</td>\n",
       "    </tr>\n",
       "    <tr>\n",
       "      <th>Academic Pressure, Unwillingness to take risk, Not able to take a Financial Risk</th>\n",
       "      <td>1</td>\n",
       "    </tr>\n",
       "    <tr>\n",
       "      <th>Not able to take a Financial Risk, Not willing to start a venture in India and waiting for future relocation</th>\n",
       "      <td>1</td>\n",
       "    </tr>\n",
       "    <tr>\n",
       "      <th>Just not interested! (Want to work in the corporate sector, or for the government or pursue research or something else), Academic Pressure, Unwillingness to take risk, Lack of Knowledge, Parental Pressure, Not able to take a Financial Risk</th>\n",
       "      <td>1</td>\n",
       "    </tr>\n",
       "    <tr>\n",
       "      <th>Just not interested! (Want to work in the corporate sector, or for the government or pursue research or something else), Academic Pressure, Lack of Knowledge</th>\n",
       "      <td>1</td>\n",
       "    </tr>\n",
       "    <tr>\n",
       "      <th>Academic Pressure, Lack of Knowledge</th>\n",
       "      <td>1</td>\n",
       "    </tr>\n",
       "    <tr>\n",
       "      <th>Just not interested! (Want to work in the corporate sector, or for the government or pursue research or something else), Not willing to start a venture in India and waiting for future relocation</th>\n",
       "      <td>1</td>\n",
       "    </tr>\n",
       "    <tr>\n",
       "      <th>Parental Pressure, Not able to take a Financial Risk, Not willing to start a venture in India and waiting for future relocation</th>\n",
       "      <td>1</td>\n",
       "    </tr>\n",
       "    <tr>\n",
       "      <th>Academic Pressure, Unwillingness to take risk, Lack of Knowledge, Parental Pressure, Mental Block, Not able to take a Financial Risk, Not willing to start a venture in India and waiting for future relocation</th>\n",
       "      <td>1</td>\n",
       "    </tr>\n",
       "    <tr>\n",
       "      <th>Just not interested! (Want to work in the corporate sector, or for the government or pursue research or something else), Academic Pressure, Not able to take a Financial Risk</th>\n",
       "      <td>1</td>\n",
       "    </tr>\n",
       "    <tr>\n",
       "      <th>Just not interested! (Want to work in the corporate sector, or for the government or pursue research or something else), Unwillingness to take risk</th>\n",
       "      <td>1</td>\n",
       "    </tr>\n",
       "    <tr>\n",
       "      <th>Academic Pressure, Lack of Knowledge, Mental Block</th>\n",
       "      <td>1</td>\n",
       "    </tr>\n",
       "    <tr>\n",
       "      <th>Academic Pressure, Lack of Knowledge, Not able to take a Financial Risk, Not willing to start a venture in India and waiting for future relocation</th>\n",
       "      <td>1</td>\n",
       "    </tr>\n",
       "    <tr>\n",
       "      <th>Mental Block</th>\n",
       "      <td>1</td>\n",
       "    </tr>\n",
       "    <tr>\n",
       "      <th>Academic Pressure, Lack of Knowledge, Parental Pressure, Mental Block, Not able to take a Financial Risk</th>\n",
       "      <td>1</td>\n",
       "    </tr>\n",
       "    <tr>\n",
       "      <th>Academic Pressure, Lack of Knowledge, Parental Pressure</th>\n",
       "      <td>1</td>\n",
       "    </tr>\n",
       "    <tr>\n",
       "      <th>Just not interested! (Want to work in the corporate sector, or for the government or pursue research or something else), Lack of Knowledge, Not able to take a Financial Risk, Not willing to start a venture in India and waiting for future relocation</th>\n",
       "      <td>1</td>\n",
       "    </tr>\n",
       "    <tr>\n",
       "      <th>Lack of Knowledge, Mental Block</th>\n",
       "      <td>1</td>\n",
       "    </tr>\n",
       "    <tr>\n",
       "      <th>Just not interested! (Want to work in the corporate sector, or for the government or pursue research or something else), Academic Pressure, Unwillingness to take risk, Lack of Knowledge, Parental Pressure, Mental Block, Not able to take a Financial Risk, Not willing to start a venture in India and waiting for future relocation</th>\n",
       "      <td>1</td>\n",
       "    </tr>\n",
       "    <tr>\n",
       "      <th>Academic Pressure, Unwillingness to take risk, Parental Pressure, Not able to take a Financial Risk</th>\n",
       "      <td>1</td>\n",
       "    </tr>\n",
       "  </tbody>\n",
       "</table>\n",
       "</div>"
      ],
      "text/plain": [
       "                                                    ReasonsForLack\n",
       "Just not interested! (Want to work in the corpo...              41\n",
       "Academic Pressure                                               11\n",
       "Not willing to start a venture in India and wai...              10\n",
       "Lack of Knowledge                                                7\n",
       "Academic Pressure, Unwillingness to take risk, ...               4\n",
       "Unwillingness to take risk                                       4\n",
       "Just not interested! (Want to work in the corpo...               4\n",
       "Not able to take a Financial Risk                                3\n",
       "Lack of Knowledge, Not able to take a Financial...               3\n",
       "Just not interested! (Want to work in the corpo...               2\n",
       "Just not interested! (Want to work in the corpo...               2\n",
       "Just not interested! (Want to work in the corpo...               2\n",
       "Lack of Knowledge, Parental Pressure                             2\n",
       "Academic Pressure, Not able to take a Financial...               2\n",
       "Academic Pressure, Lack of Knowledge, Not able ...               2\n",
       "Just not interested! (Want to work in the corpo...               1\n",
       "Unwillingness to take risk, Lack of Knowledge, ...               1\n",
       "Just not interested! (Want to work in the corpo...               1\n",
       "Lack of Knowledge, Not willing to start a ventu...               1\n",
       "Parental Pressure                                                1\n",
       "Just not interested! (Want to work in the corpo...               1\n",
       "Lack of Knowledge, Mental Block, Not able to ta...               1\n",
       "Just not interested! (Want to work in the corpo...               1\n",
       "Just not interested! (Want to work in the corpo...               1\n",
       "Lack of Knowledge, Parental Pressure, Mental Bl...               1\n",
       "Academic Pressure, Unwillingness to take risk, ...               1\n",
       "Not able to take a Financial Risk, Not willing ...               1\n",
       "Just not interested! (Want to work in the corpo...               1\n",
       "Just not interested! (Want to work in the corpo...               1\n",
       "Academic Pressure, Lack of Knowledge                             1\n",
       "Just not interested! (Want to work in the corpo...               1\n",
       "Parental Pressure, Not able to take a Financial...               1\n",
       "Academic Pressure, Unwillingness to take risk, ...               1\n",
       "Just not interested! (Want to work in the corpo...               1\n",
       "Just not interested! (Want to work in the corpo...               1\n",
       "Academic Pressure, Lack of Knowledge, Mental Block               1\n",
       "Academic Pressure, Lack of Knowledge, Not able ...               1\n",
       "Mental Block                                                     1\n",
       "Academic Pressure, Lack of Knowledge, Parental ...               1\n",
       "Academic Pressure, Lack of Knowledge, Parental ...               1\n",
       "Just not interested! (Want to work in the corpo...               1\n",
       "Lack of Knowledge, Mental Block                                  1\n",
       "Just not interested! (Want to work in the corpo...               1\n",
       "Academic Pressure, Unwillingness to take risk, ...               1"
      ]
     },
     "execution_count": 8,
     "metadata": {},
     "output_type": "execute_result"
    }
   ],
   "source": [
    "data_reasons = pd.DataFrame(data.ReasonsForLack.value_counts())\n",
    "data_reasons"
   ]
  },
  {
   "cell_type": "code",
   "execution_count": 9,
   "id": "e6ad70cc",
   "metadata": {},
   "outputs": [
    {
     "data": {
      "text/plain": [
       "'Just not interested! (Want to work in the corporate sector, or for the government or pursue research or something else)'"
      ]
     },
     "execution_count": 9,
     "metadata": {},
     "output_type": "execute_result"
    }
   ],
   "source": [
    "data.ReasonsForLack.value_counts().idxmax()"
   ]
  },
  {
   "cell_type": "code",
   "execution_count": 10,
   "id": "6f52ad6d",
   "metadata": {
    "scrolled": true
   },
   "outputs": [
    {
     "data": {
      "text/plain": [
       "ReasonsForLack    91\n",
       "dtype: int64"
      ]
     },
     "execution_count": 10,
     "metadata": {},
     "output_type": "execute_result"
    }
   ],
   "source": [
    "data.isnull().sum()[data.isnull().sum()>0]"
   ]
  },
  {
   "cell_type": "code",
   "execution_count": 11,
   "id": "c2c592ca",
   "metadata": {},
   "outputs": [],
   "source": [
    "data['ReasonsForLack'] = data.ReasonsForLack.fillna('Desconhecido')"
   ]
  },
  {
   "cell_type": "code",
   "execution_count": 12,
   "id": "56813c5f",
   "metadata": {
    "scrolled": true
   },
   "outputs": [
    {
     "data": {
      "text/html": [
       "<div>\n",
       "<style scoped>\n",
       "    .dataframe tbody tr th:only-of-type {\n",
       "        vertical-align: middle;\n",
       "    }\n",
       "\n",
       "    .dataframe tbody tr th {\n",
       "        vertical-align: top;\n",
       "    }\n",
       "\n",
       "    .dataframe thead th {\n",
       "        text-align: right;\n",
       "    }\n",
       "</style>\n",
       "<table border=\"1\" class=\"dataframe\">\n",
       "  <thead>\n",
       "    <tr style=\"text-align: right;\">\n",
       "      <th></th>\n",
       "      <th>ReasonsForLack</th>\n",
       "    </tr>\n",
       "  </thead>\n",
       "  <tbody>\n",
       "    <tr>\n",
       "      <th>Desconhecido</th>\n",
       "      <td>91</td>\n",
       "    </tr>\n",
       "    <tr>\n",
       "      <th>Just not interested! (Want to work in the corporate sector, or for the government or pursue research or something else)</th>\n",
       "      <td>41</td>\n",
       "    </tr>\n",
       "    <tr>\n",
       "      <th>Academic Pressure</th>\n",
       "      <td>11</td>\n",
       "    </tr>\n",
       "    <tr>\n",
       "      <th>Not willing to start a venture in India and waiting for future relocation</th>\n",
       "      <td>10</td>\n",
       "    </tr>\n",
       "    <tr>\n",
       "      <th>Lack of Knowledge</th>\n",
       "      <td>7</td>\n",
       "    </tr>\n",
       "  </tbody>\n",
       "</table>\n",
       "</div>"
      ],
      "text/plain": [
       "                                                    ReasonsForLack\n",
       "Desconhecido                                                    91\n",
       "Just not interested! (Want to work in the corpo...              41\n",
       "Academic Pressure                                               11\n",
       "Not willing to start a venture in India and wai...              10\n",
       "Lack of Knowledge                                                7"
      ]
     },
     "execution_count": 12,
     "metadata": {},
     "output_type": "execute_result"
    }
   ],
   "source": [
    "fill_na = pd.DataFrame(data.ReasonsForLack.value_counts())\n",
    "fill_na.head(5)"
   ]
  },
  {
   "cell_type": "code",
   "execution_count": 13,
   "id": "94dd2a0d",
   "metadata": {},
   "outputs": [
    {
     "data": {
      "text/plain": [
       "Engineering Sciences                                     123\n",
       "Economic Sciences, Business Studies, Commerce and Law     32\n",
       "Art, Music or Design                                      21\n",
       "Others                                                    20\n",
       "Medicine, Health Sciences                                 10\n",
       "Humanities and Social Sciences                             5\n",
       "Mathematics or Natural Sciences                            4\n",
       "Teaching Degree (e.g., B.Ed)                               3\n",
       "Language and Cultural Studies                              1\n",
       "Name: EducationSector, dtype: int64"
      ]
     },
     "execution_count": 13,
     "metadata": {},
     "output_type": "execute_result"
    }
   ],
   "source": [
    "edu_sector = data.EducationSector.value_counts().sort_values(ascending=False)\n",
    "edu_sector"
   ]
  },
  {
   "cell_type": "code",
   "execution_count": 14,
   "id": "2787c030",
   "metadata": {},
   "outputs": [],
   "source": [
    "edu_sector_pd = pd.DataFrame(edu_sector, columns = ['Sector', 'Amount'])"
   ]
  },
  {
   "cell_type": "code",
   "execution_count": 15,
   "id": "8ecd62fd",
   "metadata": {},
   "outputs": [],
   "source": [
    "edu_sector_pd.Sector = edu_sector.index\n",
    "edu_sector_pd.Amount = edu_sector.values"
   ]
  },
  {
   "cell_type": "code",
   "execution_count": 16,
   "id": "07b8e712",
   "metadata": {},
   "outputs": [
    {
     "data": {
      "text/html": [
       "<div>\n",
       "<style scoped>\n",
       "    .dataframe tbody tr th:only-of-type {\n",
       "        vertical-align: middle;\n",
       "    }\n",
       "\n",
       "    .dataframe tbody tr th {\n",
       "        vertical-align: top;\n",
       "    }\n",
       "\n",
       "    .dataframe thead th {\n",
       "        text-align: right;\n",
       "    }\n",
       "</style>\n",
       "<table border=\"1\" class=\"dataframe\">\n",
       "  <thead>\n",
       "    <tr style=\"text-align: right;\">\n",
       "      <th></th>\n",
       "      <th>Sector</th>\n",
       "      <th>Amount</th>\n",
       "    </tr>\n",
       "  </thead>\n",
       "  <tbody>\n",
       "    <tr>\n",
       "      <th>0</th>\n",
       "      <td>Engineering Sciences</td>\n",
       "      <td>123</td>\n",
       "    </tr>\n",
       "    <tr>\n",
       "      <th>1</th>\n",
       "      <td>Economic Sciences, Business Studies, Commerce ...</td>\n",
       "      <td>32</td>\n",
       "    </tr>\n",
       "    <tr>\n",
       "      <th>2</th>\n",
       "      <td>Art, Music or Design</td>\n",
       "      <td>21</td>\n",
       "    </tr>\n",
       "    <tr>\n",
       "      <th>3</th>\n",
       "      <td>Others</td>\n",
       "      <td>20</td>\n",
       "    </tr>\n",
       "    <tr>\n",
       "      <th>4</th>\n",
       "      <td>Medicine, Health Sciences</td>\n",
       "      <td>10</td>\n",
       "    </tr>\n",
       "    <tr>\n",
       "      <th>5</th>\n",
       "      <td>Humanities and Social Sciences</td>\n",
       "      <td>5</td>\n",
       "    </tr>\n",
       "    <tr>\n",
       "      <th>6</th>\n",
       "      <td>Mathematics or Natural Sciences</td>\n",
       "      <td>4</td>\n",
       "    </tr>\n",
       "    <tr>\n",
       "      <th>7</th>\n",
       "      <td>Teaching Degree (e.g., B.Ed)</td>\n",
       "      <td>3</td>\n",
       "    </tr>\n",
       "    <tr>\n",
       "      <th>8</th>\n",
       "      <td>Language and Cultural Studies</td>\n",
       "      <td>1</td>\n",
       "    </tr>\n",
       "  </tbody>\n",
       "</table>\n",
       "</div>"
      ],
      "text/plain": [
       "                                              Sector  Amount\n",
       "0                               Engineering Sciences     123\n",
       "1  Economic Sciences, Business Studies, Commerce ...      32\n",
       "2                               Art, Music or Design      21\n",
       "3                                             Others      20\n",
       "4                          Medicine, Health Sciences      10\n",
       "5                     Humanities and Social Sciences       5\n",
       "6                    Mathematics or Natural Sciences       4\n",
       "7                       Teaching Degree (e.g., B.Ed)       3\n",
       "8                      Language and Cultural Studies       1"
      ]
     },
     "execution_count": 16,
     "metadata": {},
     "output_type": "execute_result"
    }
   ],
   "source": [
    "edu_sector_pd"
   ]
  },
  {
   "cell_type": "code",
   "execution_count": 17,
   "id": "28a99663",
   "metadata": {},
   "outputs": [],
   "source": [
    "perc_sec = round(data.EducationSector.value_counts()/data.EducationSector.shape[0],2)"
   ]
  },
  {
   "cell_type": "code",
   "execution_count": 18,
   "id": "6f49a812",
   "metadata": {},
   "outputs": [],
   "source": [
    "edu_sector_pd['Percentual'] = perc_sec.values *100"
   ]
  },
  {
   "cell_type": "code",
   "execution_count": 19,
   "id": "03d09182",
   "metadata": {},
   "outputs": [
    {
     "data": {
      "text/html": [
       "<div>\n",
       "<style scoped>\n",
       "    .dataframe tbody tr th:only-of-type {\n",
       "        vertical-align: middle;\n",
       "    }\n",
       "\n",
       "    .dataframe tbody tr th {\n",
       "        vertical-align: top;\n",
       "    }\n",
       "\n",
       "    .dataframe thead th {\n",
       "        text-align: right;\n",
       "    }\n",
       "</style>\n",
       "<table border=\"1\" class=\"dataframe\">\n",
       "  <thead>\n",
       "    <tr style=\"text-align: right;\">\n",
       "      <th></th>\n",
       "      <th>Sector</th>\n",
       "      <th>Amount</th>\n",
       "      <th>Percentual</th>\n",
       "    </tr>\n",
       "  </thead>\n",
       "  <tbody>\n",
       "    <tr>\n",
       "      <th>0</th>\n",
       "      <td>Engineering Sciences</td>\n",
       "      <td>123</td>\n",
       "      <td>56.0</td>\n",
       "    </tr>\n",
       "    <tr>\n",
       "      <th>1</th>\n",
       "      <td>Economic Sciences, Business Studies, Commerce ...</td>\n",
       "      <td>32</td>\n",
       "      <td>15.0</td>\n",
       "    </tr>\n",
       "    <tr>\n",
       "      <th>2</th>\n",
       "      <td>Art, Music or Design</td>\n",
       "      <td>21</td>\n",
       "      <td>10.0</td>\n",
       "    </tr>\n",
       "    <tr>\n",
       "      <th>3</th>\n",
       "      <td>Others</td>\n",
       "      <td>20</td>\n",
       "      <td>9.0</td>\n",
       "    </tr>\n",
       "    <tr>\n",
       "      <th>4</th>\n",
       "      <td>Medicine, Health Sciences</td>\n",
       "      <td>10</td>\n",
       "      <td>5.0</td>\n",
       "    </tr>\n",
       "    <tr>\n",
       "      <th>5</th>\n",
       "      <td>Humanities and Social Sciences</td>\n",
       "      <td>5</td>\n",
       "      <td>2.0</td>\n",
       "    </tr>\n",
       "    <tr>\n",
       "      <th>6</th>\n",
       "      <td>Mathematics or Natural Sciences</td>\n",
       "      <td>4</td>\n",
       "      <td>2.0</td>\n",
       "    </tr>\n",
       "    <tr>\n",
       "      <th>7</th>\n",
       "      <td>Teaching Degree (e.g., B.Ed)</td>\n",
       "      <td>3</td>\n",
       "      <td>1.0</td>\n",
       "    </tr>\n",
       "    <tr>\n",
       "      <th>8</th>\n",
       "      <td>Language and Cultural Studies</td>\n",
       "      <td>1</td>\n",
       "      <td>0.0</td>\n",
       "    </tr>\n",
       "  </tbody>\n",
       "</table>\n",
       "</div>"
      ],
      "text/plain": [
       "                                              Sector  Amount  Percentual\n",
       "0                               Engineering Sciences     123        56.0\n",
       "1  Economic Sciences, Business Studies, Commerce ...      32        15.0\n",
       "2                               Art, Music or Design      21        10.0\n",
       "3                                             Others      20         9.0\n",
       "4                          Medicine, Health Sciences      10         5.0\n",
       "5                     Humanities and Social Sciences       5         2.0\n",
       "6                    Mathematics or Natural Sciences       4         2.0\n",
       "7                       Teaching Degree (e.g., B.Ed)       3         1.0\n",
       "8                      Language and Cultural Studies       1         0.0"
      ]
     },
     "execution_count": 19,
     "metadata": {},
     "output_type": "execute_result"
    }
   ],
   "source": [
    "edu_sector_pd"
   ]
  },
  {
   "cell_type": "code",
   "execution_count": 20,
   "id": "ba1ffdb5",
   "metadata": {},
   "outputs": [],
   "source": [
    "labels = [str(edu_sector_pd['Sector'][i])+' '+'['+str(round(edu_sector_pd['Percentual'][i],2)) +'%'+']' for i in edu_sector_pd.index]"
   ]
  },
  {
   "cell_type": "code",
   "execution_count": 21,
   "id": "a500802c",
   "metadata": {},
   "outputs": [],
   "source": [
    "from matplotlib import cm"
   ]
  },
  {
   "cell_type": "code",
   "execution_count": 22,
   "id": "5acfc486",
   "metadata": {},
   "outputs": [
    {
     "data": {
      "image/png": "[encoded data removed]",
      "text/plain": [
       "<Figure size 432x288 with 1 Axes>"
      ]
     },
     "metadata": {},
     "output_type": "display_data"
    }
   ],
   "source": [
    "cs = cm.Set3(np.arange(100))\n",
    "f = plt.figure()\n",
    "plt.pie(edu_sector_pd['Amount'], labeldistance = 1, radius = 3, colors = cs, wedgeprops = dict(width = 0.8))\n",
    "plt.legend(labels = labels, loc = 'center', prop = {'size':12})\n",
    "plt.title(\"Students distribution based on Education Sector - General Analysis\", loc = 'Center', fontdict = {'fontsize':20,'fontweight':20})\n",
    "plt.show()"
   ]
  },
  {
   "cell_type": "code",
   "execution_count": 23,
   "id": "5ac0d4a9",
   "metadata": {},
   "outputs": [],
   "source": [
    "rank_edu_sec = data.EducationSector.value_counts().sort_values(ascending=False)"
   ]
  },
  {
   "cell_type": "code",
   "execution_count": 24,
   "id": "4714c73c",
   "metadata": {},
   "outputs": [],
   "source": [
    "rank = pd.DataFrame(rank_edu_sec, columns=['Sector', 'Amount'])"
   ]
  },
  {
   "cell_type": "code",
   "execution_count": 25,
   "id": "be807188",
   "metadata": {},
   "outputs": [],
   "source": [
    "rank.Sector = rank_edu_sec.index\n",
    "rank.Amount = rank_edu_sec.values"
   ]
  },
  {
   "cell_type": "code",
   "execution_count": 26,
   "id": "cb6d39e5",
   "metadata": {},
   "outputs": [],
   "source": [
    "rank_3 = rank.head(3)"
   ]
  },
  {
   "cell_type": "code",
   "execution_count": 27,
   "id": "06f490c4",
   "metadata": {},
   "outputs": [
    {
     "data": {
      "text/html": [
       "<div>\n",
       "<style scoped>\n",
       "    .dataframe tbody tr th:only-of-type {\n",
       "        vertical-align: middle;\n",
       "    }\n",
       "\n",
       "    .dataframe tbody tr th {\n",
       "        vertical-align: top;\n",
       "    }\n",
       "\n",
       "    .dataframe thead th {\n",
       "        text-align: right;\n",
       "    }\n",
       "</style>\n",
       "<table border=\"1\" class=\"dataframe\">\n",
       "  <thead>\n",
       "    <tr style=\"text-align: right;\">\n",
       "      <th></th>\n",
       "      <th>Sector</th>\n",
       "      <th>Amount</th>\n",
       "    </tr>\n",
       "  </thead>\n",
       "  <tbody>\n",
       "    <tr>\n",
       "      <th>0</th>\n",
       "      <td>Engineering Sciences</td>\n",
       "      <td>123</td>\n",
       "    </tr>\n",
       "    <tr>\n",
       "      <th>1</th>\n",
       "      <td>Economic Sciences, Business Studies, Commerce ...</td>\n",
       "      <td>32</td>\n",
       "    </tr>\n",
       "    <tr>\n",
       "      <th>2</th>\n",
       "      <td>Art, Music or Design</td>\n",
       "      <td>21</td>\n",
       "    </tr>\n",
       "  </tbody>\n",
       "</table>\n",
       "</div>"
      ],
      "text/plain": [
       "                                              Sector  Amount\n",
       "0                               Engineering Sciences     123\n",
       "1  Economic Sciences, Business Studies, Commerce ...      32\n",
       "2                               Art, Music or Design      21"
      ]
     },
     "execution_count": 27,
     "metadata": {},
     "output_type": "execute_result"
    }
   ],
   "source": [
    "rank_3"
   ]
  },
  {
   "cell_type": "code",
   "execution_count": 28,
   "id": "53acde8c",
   "metadata": {},
   "outputs": [
    {
     "data": {
      "image/png": "[encoded data removed]",
      "text/plain": [
       "<Figure size 576x360 with 1 Axes>"
      ]
     },
     "metadata": {
      "needs_background": "light"
     },
     "output_type": "display_data"
    }
   ],
   "source": [
    "fig, ax = plt.subplots(figsize=(8,5))\n",
    "colors = [\"#00e600\", \"#ff8c1a\", \"#a180cc\"]\n",
    "sns.barplot(x=\"Sector\", y=\"Amount\", palette=colors, data=rank_3)\n",
    "ax.set_title(\"Sectors with largest students number\",fontdict= {'size':12})\n",
    "ax.xaxis.set_label_text(\"Sectors\",fontdict= {'size':12})\n",
    "ax.yaxis.set_label_text(\"Students amount\",fontdict= {'size':12})\n",
    "plt.show()"
   ]
  },
  {
   "cell_type": "code",
   "execution_count": 29,
   "id": "2c3b5700",
   "metadata": {
    "scrolled": true
   },
   "outputs": [
    {
     "data": {
      "image/png": "[encoded data removed]",
      "text/plain": [
       "<Figure size 576x432 with 1 Axes>"
      ]
     },
     "metadata": {
      "needs_background": "light"
     },
     "output_type": "display_data"
    }
   ],
   "source": [
    "fig, ax = plt.subplots(figsize=(8,6))\n",
    "sns.histplot(data[\"Age\"], color=\"#33cc33\",kde=True, ax=ax)\n",
    "ax.set_title('Students distribution based on Age', fontsize= 15)\n",
    "plt.ylabel(\"Density (KDE)\", fontsize= 15)\n",
    "plt.xlabel(\"Age\", fontsize= 15)\n",
    "plt.show()"
   ]
  },
  {
   "cell_type": "code",
   "execution_count": 30,
   "id": "4891d994",
   "metadata": {
    "scrolled": true
   },
   "outputs": [
    {
     "data": {
      "image/png": "[encoded data removed]",
      "text/plain": [
       "<Figure size 720x360 with 1 Axes>"
      ]
     },
     "metadata": {
      "needs_background": "light"
     },
     "output_type": "display_data"
    }
   ],
   "source": [
    "fig = plt.figure(figsize=(10,5))\n",
    "plt.boxplot(data.Age)\n",
    "plt.show()"
   ]
  },
  {
   "cell_type": "code",
   "execution_count": 31,
   "id": "b8ffa6c8",
   "metadata": {},
   "outputs": [
    {
     "data": {
      "text/plain": [
       "Male      162\n",
       "Female     57\n",
       "Name: Gender, dtype: int64"
      ]
     },
     "execution_count": 31,
     "metadata": {},
     "output_type": "execute_result"
    }
   ],
   "source": [
    "gender = data.Gender.value_counts()\n",
    "gender"
   ]
  },
  {
   "cell_type": "code",
   "execution_count": 32,
   "id": "d2345704",
   "metadata": {},
   "outputs": [],
   "source": [
    "perc_gender = round((data.Gender.value_counts()/data.Gender.shape[0])*100, 2)"
   ]
  },
  {
   "cell_type": "code",
   "execution_count": 33,
   "id": "f146cbdb",
   "metadata": {},
   "outputs": [
    {
     "data": {
      "text/plain": [
       "Male      73.97\n",
       "Female    26.03\n",
       "Name: Gender, dtype: float64"
      ]
     },
     "execution_count": 33,
     "metadata": {},
     "output_type": "execute_result"
    }
   ],
   "source": [
    "perc_gender"
   ]
  },
  {
   "cell_type": "code",
   "execution_count": 34,
   "id": "ab933a21",
   "metadata": {},
   "outputs": [],
   "source": [
    "df_gender = pd.DataFrame(gender, columns=['Gender','Absolut_Value', 'Percent_Value'])"
   ]
  },
  {
   "cell_type": "code",
   "execution_count": 35,
   "id": "9acd0c71",
   "metadata": {},
   "outputs": [
    {
     "data": {
      "text/html": [
       "<div>\n",
       "<style scoped>\n",
       "    .dataframe tbody tr th:only-of-type {\n",
       "        vertical-align: middle;\n",
       "    }\n",
       "\n",
       "    .dataframe tbody tr th {\n",
       "        vertical-align: top;\n",
       "    }\n",
       "\n",
       "    .dataframe thead th {\n",
       "        text-align: right;\n",
       "    }\n",
       "</style>\n",
       "<table border=\"1\" class=\"dataframe\">\n",
       "  <thead>\n",
       "    <tr style=\"text-align: right;\">\n",
       "      <th></th>\n",
       "      <th>Gender</th>\n",
       "      <th>Absolut_Value</th>\n",
       "      <th>Percent_Value</th>\n",
       "    </tr>\n",
       "  </thead>\n",
       "  <tbody>\n",
       "    <tr>\n",
       "      <th>Male</th>\n",
       "      <td>Male</td>\n",
       "      <td>162</td>\n",
       "      <td>73.97</td>\n",
       "    </tr>\n",
       "    <tr>\n",
       "      <th>Female</th>\n",
       "      <td>Female</td>\n",
       "      <td>57</td>\n",
       "      <td>26.03</td>\n",
       "    </tr>\n",
       "  </tbody>\n",
       "</table>\n",
       "</div>"
      ],
      "text/plain": [
       "        Gender  Absolut_Value  Percent_Value\n",
       "Male      Male            162          73.97\n",
       "Female  Female             57          26.03"
      ]
     },
     "execution_count": 35,
     "metadata": {},
     "output_type": "execute_result"
    }
   ],
   "source": [
    "df_gender.Gender = gender.index\n",
    "df_gender.Absolut_Value = gender.values\n",
    "df_gender.Percent_Value = perc_gender.values\n",
    "\n",
    "df_gender"
   ]
  },
  {
   "cell_type": "code",
   "execution_count": 36,
   "id": "742566ea",
   "metadata": {},
   "outputs": [
    {
     "data": {
      "image/png": "[encoded data removed]",
      "text/plain": [
       "<Figure size 576x432 with 1 Axes>"
      ]
     },
     "metadata": {
      "needs_background": "light"
     },
     "output_type": "display_data"
    }
   ],
   "source": [
    "fig, ax = plt.subplots(figsize=(8,6))\n",
    "sns.histplot(data[\"Gender\"], color=\"#33cc33\", ax=ax)\n",
    "ax.set_title('Students distribution by gender', fontsize= 15)\n",
    "plt.ylabel(\"Amount\", fontsize= 15)\n",
    "plt.xlabel(\"Gender\", fontsize= 15)\n",
    "plt.show()\n"
   ]
  },
  {
   "cell_type": "markdown",
   "id": "8974926c",
   "metadata": {},
   "source": [
    "# Education Sector, Gender and Age Analyses, where Target =  1"
   ]
  },
  {
   "cell_type": "code",
   "execution_count": 37,
   "id": "aee5f6f7",
   "metadata": {},
   "outputs": [
    {
     "data": {
      "text/html": [
       "<div>\n",
       "<style scoped>\n",
       "    .dataframe tbody tr th:only-of-type {\n",
       "        vertical-align: middle;\n",
       "    }\n",
       "\n",
       "    .dataframe tbody tr th {\n",
       "        vertical-align: top;\n",
       "    }\n",
       "\n",
       "    .dataframe thead th {\n",
       "        text-align: right;\n",
       "    }\n",
       "</style>\n",
       "<table border=\"1\" class=\"dataframe\">\n",
       "  <thead>\n",
       "    <tr style=\"text-align: right;\">\n",
       "      <th></th>\n",
       "      <th>EducationSector</th>\n",
       "      <th>IndividualProject</th>\n",
       "      <th>Age</th>\n",
       "      <th>Gender</th>\n",
       "      <th>City</th>\n",
       "      <th>Influenced</th>\n",
       "      <th>Perseverance</th>\n",
       "      <th>DesireToTakeInitiative</th>\n",
       "      <th>Competitiveness</th>\n",
       "      <th>SelfReliance</th>\n",
       "      <th>StrongNeedToAchieve</th>\n",
       "      <th>SelfConfidence</th>\n",
       "      <th>GoodPhysicalHealth</th>\n",
       "      <th>MentalDisorder</th>\n",
       "      <th>KeyTraits</th>\n",
       "      <th>ReasonsForLack</th>\n",
       "      <th>y</th>\n",
       "    </tr>\n",
       "  </thead>\n",
       "  <tbody>\n",
       "    <tr>\n",
       "      <th>0</th>\n",
       "      <td>Engineering Sciences</td>\n",
       "      <td>No</td>\n",
       "      <td>19</td>\n",
       "      <td>Male</td>\n",
       "      <td>Yes</td>\n",
       "      <td>No</td>\n",
       "      <td>2</td>\n",
       "      <td>2</td>\n",
       "      <td>3</td>\n",
       "      <td>3</td>\n",
       "      <td>2</td>\n",
       "      <td>2</td>\n",
       "      <td>3</td>\n",
       "      <td>Yes</td>\n",
       "      <td>Passion</td>\n",
       "      <td>Desconhecido</td>\n",
       "      <td>1</td>\n",
       "    </tr>\n",
       "    <tr>\n",
       "      <th>4</th>\n",
       "      <td>Engineering Sciences</td>\n",
       "      <td>Yes</td>\n",
       "      <td>19</td>\n",
       "      <td>Male</td>\n",
       "      <td>Yes</td>\n",
       "      <td>Yes</td>\n",
       "      <td>2</td>\n",
       "      <td>3</td>\n",
       "      <td>3</td>\n",
       "      <td>3</td>\n",
       "      <td>4</td>\n",
       "      <td>3</td>\n",
       "      <td>2</td>\n",
       "      <td>Yes</td>\n",
       "      <td>Vision</td>\n",
       "      <td>Desconhecido</td>\n",
       "      <td>1</td>\n",
       "    </tr>\n",
       "    <tr>\n",
       "      <th>5</th>\n",
       "      <td>Engineering Sciences</td>\n",
       "      <td>No</td>\n",
       "      <td>19</td>\n",
       "      <td>Male</td>\n",
       "      <td>Yes</td>\n",
       "      <td>Yes</td>\n",
       "      <td>3</td>\n",
       "      <td>3</td>\n",
       "      <td>3</td>\n",
       "      <td>3</td>\n",
       "      <td>3</td>\n",
       "      <td>3</td>\n",
       "      <td>3</td>\n",
       "      <td>No</td>\n",
       "      <td>Positivity</td>\n",
       "      <td>Desconhecido</td>\n",
       "      <td>1</td>\n",
       "    </tr>\n",
       "    <tr>\n",
       "      <th>6</th>\n",
       "      <td>Engineering Sciences</td>\n",
       "      <td>Yes</td>\n",
       "      <td>19</td>\n",
       "      <td>Male</td>\n",
       "      <td>Yes</td>\n",
       "      <td>Yes</td>\n",
       "      <td>3</td>\n",
       "      <td>2</td>\n",
       "      <td>3</td>\n",
       "      <td>3</td>\n",
       "      <td>4</td>\n",
       "      <td>1</td>\n",
       "      <td>1</td>\n",
       "      <td>No</td>\n",
       "      <td>Work Ethic</td>\n",
       "      <td>Desconhecido</td>\n",
       "      <td>1</td>\n",
       "    </tr>\n",
       "    <tr>\n",
       "      <th>9</th>\n",
       "      <td>Engineering Sciences</td>\n",
       "      <td>Yes</td>\n",
       "      <td>17</td>\n",
       "      <td>Male</td>\n",
       "      <td>Yes</td>\n",
       "      <td>Yes</td>\n",
       "      <td>2</td>\n",
       "      <td>3</td>\n",
       "      <td>2</td>\n",
       "      <td>1</td>\n",
       "      <td>4</td>\n",
       "      <td>3</td>\n",
       "      <td>3</td>\n",
       "      <td>Yes</td>\n",
       "      <td>Work Ethic</td>\n",
       "      <td>Desconhecido</td>\n",
       "      <td>1</td>\n",
       "    </tr>\n",
       "  </tbody>\n",
       "</table>\n",
       "</div>"
      ],
      "text/plain": [
       "        EducationSector IndividualProject  Age Gender City Influenced  \\\n",
       "0  Engineering Sciences                No   19   Male  Yes         No   \n",
       "4  Engineering Sciences               Yes   19   Male  Yes        Yes   \n",
       "5  Engineering Sciences                No   19   Male  Yes        Yes   \n",
       "6  Engineering Sciences               Yes   19   Male  Yes        Yes   \n",
       "9  Engineering Sciences               Yes   17   Male  Yes        Yes   \n",
       "\n",
       "   Perseverance  DesireToTakeInitiative  Competitiveness  SelfReliance  \\\n",
       "0             2                       2                3             3   \n",
       "4             2                       3                3             3   \n",
       "5             3                       3                3             3   \n",
       "6             3                       2                3             3   \n",
       "9             2                       3                2             1   \n",
       "\n",
       "   StrongNeedToAchieve  SelfConfidence  GoodPhysicalHealth MentalDisorder  \\\n",
       "0                    2               2                   3            Yes   \n",
       "4                    4               3                   2            Yes   \n",
       "5                    3               3                   3             No   \n",
       "6                    4               1                   1             No   \n",
       "9                    4               3                   3            Yes   \n",
       "\n",
       "    KeyTraits ReasonsForLack  y  \n",
       "0     Passion   Desconhecido  1  \n",
       "4      Vision   Desconhecido  1  \n",
       "5  Positivity   Desconhecido  1  \n",
       "6  Work Ethic   Desconhecido  1  \n",
       "9  Work Ethic   Desconhecido  1  "
      ]
     },
     "execution_count": 37,
     "metadata": {},
     "output_type": "execute_result"
    }
   ],
   "source": [
    "data_y = data[data.y == 1]\n",
    "data_y.head()"
   ]
  },
  {
   "cell_type": "code",
   "execution_count": 38,
   "id": "9165b30e",
   "metadata": {},
   "outputs": [
    {
     "data": {
      "text/plain": [
       "(91, 17)"
      ]
     },
     "execution_count": 38,
     "metadata": {},
     "output_type": "execute_result"
    }
   ],
   "source": [
    "data_y.shape"
   ]
  },
  {
   "cell_type": "code",
   "execution_count": 39,
   "id": "61e5df50",
   "metadata": {},
   "outputs": [
    {
     "data": {
      "text/plain": [
       "Engineering Sciences                                     55\n",
       "Economic Sciences, Business Studies, Commerce and Law     9\n",
       "Art, Music or Design                                      9\n",
       "Others                                                    8\n",
       "Humanities and Social Sciences                            5\n",
       "Medicine, Health Sciences                                 3\n",
       "Teaching Degree (e.g., B.Ed)                              2\n",
       "Name: EducationSector, dtype: int64"
      ]
     },
     "execution_count": 39,
     "metadata": {},
     "output_type": "execute_result"
    }
   ],
   "source": [
    "edu_sector_y = data_y.EducationSector.value_counts().sort_values(ascending=False)\n",
    "edu_sector_y"
   ]
  },
  {
   "cell_type": "code",
   "execution_count": 40,
   "id": "7e41130d",
   "metadata": {},
   "outputs": [
    {
     "data": {
      "text/html": [
       "<div>\n",
       "<style scoped>\n",
       "    .dataframe tbody tr th:only-of-type {\n",
       "        vertical-align: middle;\n",
       "    }\n",
       "\n",
       "    .dataframe tbody tr th {\n",
       "        vertical-align: top;\n",
       "    }\n",
       "\n",
       "    .dataframe thead th {\n",
       "        text-align: right;\n",
       "    }\n",
       "</style>\n",
       "<table border=\"1\" class=\"dataframe\">\n",
       "  <thead>\n",
       "    <tr style=\"text-align: right;\">\n",
       "      <th></th>\n",
       "      <th>Sector</th>\n",
       "      <th>Amount</th>\n",
       "    </tr>\n",
       "  </thead>\n",
       "  <tbody>\n",
       "    <tr>\n",
       "      <th>0</th>\n",
       "      <td>Engineering Sciences</td>\n",
       "      <td>55</td>\n",
       "    </tr>\n",
       "    <tr>\n",
       "      <th>1</th>\n",
       "      <td>Economic Sciences, Business Studies, Commerce ...</td>\n",
       "      <td>9</td>\n",
       "    </tr>\n",
       "    <tr>\n",
       "      <th>2</th>\n",
       "      <td>Art, Music or Design</td>\n",
       "      <td>9</td>\n",
       "    </tr>\n",
       "    <tr>\n",
       "      <th>3</th>\n",
       "      <td>Others</td>\n",
       "      <td>8</td>\n",
       "    </tr>\n",
       "    <tr>\n",
       "      <th>4</th>\n",
       "      <td>Humanities and Social Sciences</td>\n",
       "      <td>5</td>\n",
       "    </tr>\n",
       "    <tr>\n",
       "      <th>5</th>\n",
       "      <td>Medicine, Health Sciences</td>\n",
       "      <td>3</td>\n",
       "    </tr>\n",
       "    <tr>\n",
       "      <th>6</th>\n",
       "      <td>Teaching Degree (e.g., B.Ed)</td>\n",
       "      <td>2</td>\n",
       "    </tr>\n",
       "  </tbody>\n",
       "</table>\n",
       "</div>"
      ],
      "text/plain": [
       "                                              Sector  Amount\n",
       "0                               Engineering Sciences      55\n",
       "1  Economic Sciences, Business Studies, Commerce ...       9\n",
       "2                               Art, Music or Design       9\n",
       "3                                             Others       8\n",
       "4                     Humanities and Social Sciences       5\n",
       "5                          Medicine, Health Sciences       3\n",
       "6                       Teaching Degree (e.g., B.Ed)       2"
      ]
     },
     "execution_count": 40,
     "metadata": {},
     "output_type": "execute_result"
    }
   ],
   "source": [
    "edu_sector_ypd = pd.DataFrame(edu_sector_y, columns = ['Sector', 'Amount'])\n",
    "edu_sector_ypd.Sector = edu_sector_y.index\n",
    "edu_sector_ypd.Amount = edu_sector_y.values\n",
    "edu_sector_ypd"
   ]
  },
  {
   "cell_type": "code",
   "execution_count": 41,
   "id": "72f9f356",
   "metadata": {},
   "outputs": [
    {
     "data": {
      "text/html": [
       "<div>\n",
       "<style scoped>\n",
       "    .dataframe tbody tr th:only-of-type {\n",
       "        vertical-align: middle;\n",
       "    }\n",
       "\n",
       "    .dataframe tbody tr th {\n",
       "        vertical-align: top;\n",
       "    }\n",
       "\n",
       "    .dataframe thead th {\n",
       "        text-align: right;\n",
       "    }\n",
       "</style>\n",
       "<table border=\"1\" class=\"dataframe\">\n",
       "  <thead>\n",
       "    <tr style=\"text-align: right;\">\n",
       "      <th></th>\n",
       "      <th>Sector</th>\n",
       "      <th>Amount</th>\n",
       "      <th>Percent</th>\n",
       "    </tr>\n",
       "  </thead>\n",
       "  <tbody>\n",
       "    <tr>\n",
       "      <th>0</th>\n",
       "      <td>Engineering Sciences</td>\n",
       "      <td>55</td>\n",
       "      <td>60.0</td>\n",
       "    </tr>\n",
       "    <tr>\n",
       "      <th>1</th>\n",
       "      <td>Economic Sciences, Business Studies, Commerce ...</td>\n",
       "      <td>9</td>\n",
       "      <td>10.0</td>\n",
       "    </tr>\n",
       "    <tr>\n",
       "      <th>2</th>\n",
       "      <td>Art, Music or Design</td>\n",
       "      <td>9</td>\n",
       "      <td>10.0</td>\n",
       "    </tr>\n",
       "    <tr>\n",
       "      <th>3</th>\n",
       "      <td>Others</td>\n",
       "      <td>8</td>\n",
       "      <td>9.0</td>\n",
       "    </tr>\n",
       "    <tr>\n",
       "      <th>4</th>\n",
       "      <td>Humanities and Social Sciences</td>\n",
       "      <td>5</td>\n",
       "      <td>5.0</td>\n",
       "    </tr>\n",
       "    <tr>\n",
       "      <th>5</th>\n",
       "      <td>Medicine, Health Sciences</td>\n",
       "      <td>3</td>\n",
       "      <td>3.0</td>\n",
       "    </tr>\n",
       "    <tr>\n",
       "      <th>6</th>\n",
       "      <td>Teaching Degree (e.g., B.Ed)</td>\n",
       "      <td>2</td>\n",
       "      <td>2.0</td>\n",
       "    </tr>\n",
       "  </tbody>\n",
       "</table>\n",
       "</div>"
      ],
      "text/plain": [
       "                                              Sector  Amount  Percent\n",
       "0                               Engineering Sciences      55     60.0\n",
       "1  Economic Sciences, Business Studies, Commerce ...       9     10.0\n",
       "2                               Art, Music or Design       9     10.0\n",
       "3                                             Others       8      9.0\n",
       "4                     Humanities and Social Sciences       5      5.0\n",
       "5                          Medicine, Health Sciences       3      3.0\n",
       "6                       Teaching Degree (e.g., B.Ed)       2      2.0"
      ]
     },
     "execution_count": 41,
     "metadata": {},
     "output_type": "execute_result"
    }
   ],
   "source": [
    "perc_sec_y = round(data_y.EducationSector.value_counts()/data_y.EducationSector.shape[0],2)\n",
    "edu_sector_ypd['Percent'] = perc_sec_y.values *100\n",
    "edu_sector_ypd"
   ]
  },
  {
   "cell_type": "code",
   "execution_count": 42,
   "id": "f7ee5937",
   "metadata": {},
   "outputs": [
    {
     "data": {
      "image/png": "[encoded data removed]",
      "text/plain": [
       "<Figure size 432x288 with 1 Axes>"
      ]
     },
     "metadata": {},
     "output_type": "display_data"
    }
   ],
   "source": [
    "labels = [str(edu_sector_ypd['Sector'][i])+' '+'['+str(round(edu_sector_ypd['Percent'][i],2)) +'%'+']' for i in edu_sector_ypd.index]\n",
    "cs = cm.Set3(np.arange(100))\n",
    "f = plt.figure()\n",
    "plt.pie(edu_sector_ypd['Amount'], labeldistance = 1, radius = 3, colors = cs, wedgeprops = dict(width = 0.8))\n",
    "plt.legend(labels = labels, loc = 'center', prop = {'size':12})\n",
    "plt.title(\"Students distribution based on Education Sector - Target Analysis\", loc = 'Center', fontdict = {'fontsize':20,'fontweight':20})\n",
    "plt.show()"
   ]
  },
  {
   "cell_type": "code",
   "execution_count": 43,
   "id": "1403e33d",
   "metadata": {},
   "outputs": [
    {
     "data": {
      "image/png": "[encoded data removed]",
      "text/plain": [
       "<Figure size 576x432 with 1 Axes>"
      ]
     },
     "metadata": {
      "needs_background": "light"
     },
     "output_type": "display_data"
    }
   ],
   "source": [
    "fig, ax = plt.subplots(figsize=(8,6))\n",
    "sns.histplot(data_y[\"Age\"], color=\"#1f77b4\",kde=True, ax=ax)\n",
    "ax.set_title('Students distribution based on Age - Target Analysis', fontsize= 15)\n",
    "plt.ylabel(\"Density (KDE)\", fontsize= 15)\n",
    "plt.xlabel(\"Age\", fontsize= 15)\n",
    "plt.show()"
   ]
  },
  {
   "cell_type": "code",
   "execution_count": 44,
   "id": "e11d0995",
   "metadata": {},
   "outputs": [
    {
     "data": {
      "text/html": [
       "<div>\n",
       "<style scoped>\n",
       "    .dataframe tbody tr th:only-of-type {\n",
       "        vertical-align: middle;\n",
       "    }\n",
       "\n",
       "    .dataframe tbody tr th {\n",
       "        vertical-align: top;\n",
       "    }\n",
       "\n",
       "    .dataframe thead th {\n",
       "        text-align: right;\n",
       "    }\n",
       "</style>\n",
       "<table border=\"1\" class=\"dataframe\">\n",
       "  <thead>\n",
       "    <tr style=\"text-align: right;\">\n",
       "      <th></th>\n",
       "      <th>Gender</th>\n",
       "      <th>Absolut_Value</th>\n",
       "      <th>Percent_Value</th>\n",
       "    </tr>\n",
       "  </thead>\n",
       "  <tbody>\n",
       "    <tr>\n",
       "      <th>Male</th>\n",
       "      <td>Male</td>\n",
       "      <td>71</td>\n",
       "      <td>78.02</td>\n",
       "    </tr>\n",
       "    <tr>\n",
       "      <th>Female</th>\n",
       "      <td>Female</td>\n",
       "      <td>20</td>\n",
       "      <td>21.98</td>\n",
       "    </tr>\n",
       "  </tbody>\n",
       "</table>\n",
       "</div>"
      ],
      "text/plain": [
       "        Gender  Absolut_Value  Percent_Value\n",
       "Male      Male             71          78.02\n",
       "Female  Female             20          21.98"
      ]
     },
     "execution_count": 44,
     "metadata": {},
     "output_type": "execute_result"
    }
   ],
   "source": [
    "gender_y = data_y.Gender.value_counts()\n",
    "perc_gender_y = round((data_y.Gender.value_counts()/data_y.Gender.shape[0])*100, 2)\n",
    "df_gender_y = pd.DataFrame(gender_y, columns=['Gender','Absolut_Value', 'Percent_Value'])\n",
    "df_gender_y.Gender = gender_y.index\n",
    "df_gender_y.Absolut_Value = gender_y.values\n",
    "df_gender_y.Percent_Value = perc_gender_y.values\n",
    "\n",
    "df_gender_y\n"
   ]
  },
  {
   "cell_type": "code",
   "execution_count": 45,
   "id": "041bb2da",
   "metadata": {},
   "outputs": [
    {
     "data": {
      "image/png": "[encoded data removed]",
      "text/plain": [
       "<Figure size 576x432 with 1 Axes>"
      ]
     },
     "metadata": {
      "needs_background": "light"
     },
     "output_type": "display_data"
    }
   ],
   "source": [
    "fig, ax = plt.subplots(figsize=(8,6))\n",
    "sns.histplot(data_y[\"Gender\"], color=\"#9467bd\", ax=ax)\n",
    "ax.set_title('Students distribution by gender', fontsize= 15)\n",
    "plt.ylabel(\"Amount\", fontsize= 15)\n",
    "plt.xlabel(\"Gender\", fontsize= 15)\n",
    "plt.show()\n"
   ]
  },
  {
   "cell_type": "code",
   "execution_count": 46,
   "id": "6c9bed17",
   "metadata": {
    "scrolled": true
   },
   "outputs": [
    {
     "data": {
      "text/plain": [
       "Yes    63.74\n",
       "No     36.26\n",
       "Name: IndividualProject, dtype: float64"
      ]
     },
     "execution_count": 46,
     "metadata": {},
     "output_type": "execute_result"
    }
   ],
   "source": [
    "pcy= round(data_y.IndividualProject.value_counts()/data_y.IndividualProject.shape[0]*100,2)\n",
    "pcy"
   ]
  },
  {
   "cell_type": "code",
   "execution_count": 47,
   "id": "db13ba12",
   "metadata": {},
   "outputs": [
    {
     "data": {
      "text/plain": [
       "Yes    56.62\n",
       "No     43.38\n",
       "Name: IndividualProject, dtype: float64"
      ]
     },
     "execution_count": 47,
     "metadata": {},
     "output_type": "execute_result"
    }
   ],
   "source": [
    "pc= round(data.IndividualProject.value_counts()/data.IndividualProject.shape[0]*100,2)\n",
    "pc"
   ]
  },
  {
   "cell_type": "code",
   "execution_count": 48,
   "id": "d61465d6",
   "metadata": {
    "scrolled": true
   },
   "outputs": [
    {
     "data": {
      "image/png": "[encoded data removed]",
      "text/plain": [
       "<Figure size 1080x360 with 2 Axes>"
      ]
     },
     "metadata": {
      "needs_background": "light"
     },
     "output_type": "display_data"
    }
   ],
   "source": [
    "fig = plt.figure(figsize=(15,5)) #tamanho do frame \n",
    "plt.subplots_adjust(wspace= 0.5) #espaço entre os graficos\n",
    "plt.suptitle('Comparation between Idividual Project on \"y general\" and \"y == 1\"') \n",
    "plt.subplot(1,2,2)\n",
    "plt.bar(data_y.IndividualProject.unique(), pcy, color = 'green')\n",
    "plt.title(\"Individual Project Distribution - y==1\")\n",
    "plt.subplot(1,2,1)\n",
    "plt.bar(data.IndividualProject.unique(), pc, color = 'grey')\n",
    "plt.title(\"Individual Project Distribution - Full dataset\")\n",
    "plt.show()"
   ]
  },
  {
   "cell_type": "code",
   "execution_count": 49,
   "id": "e9db749b",
   "metadata": {},
   "outputs": [
    {
     "data": {
      "text/plain": [
       "Yes    72.0\n",
       "No     28.0\n",
       "Name: Influenced, dtype: float64"
      ]
     },
     "execution_count": 49,
     "metadata": {},
     "output_type": "execute_result"
    }
   ],
   "source": [
    "round(data.Influenced.value_counts()/data.Influenced.shape[0],2)*100"
   ]
  },
  {
   "cell_type": "code",
   "execution_count": 50,
   "id": "a4aa39b4",
   "metadata": {},
   "outputs": [
    {
     "data": {
      "text/plain": [
       "Yes    86.0\n",
       "No     14.0\n",
       "Name: Influenced, dtype: float64"
      ]
     },
     "execution_count": 50,
     "metadata": {},
     "output_type": "execute_result"
    }
   ],
   "source": [
    "round(data_y.Influenced.value_counts()/data_y.Influenced.shape[0],2)*100"
   ]
  },
  {
   "cell_type": "markdown",
   "id": "e6a0f15a",
   "metadata": {},
   "source": [
    "Here we can observe that the categoric features have no influence on Target. Each feature measure almost haven´t any impact when compared on 'y general' and 'y == 1'. In other words, we must take the numerical features as predict parameters."
   ]
  },
  {
   "cell_type": "code",
   "execution_count": 51,
   "id": "7750fea5",
   "metadata": {
    "scrolled": true
   },
   "outputs": [
    {
     "data": {
      "text/html": [
       "<div>\n",
       "<style scoped>\n",
       "    .dataframe tbody tr th:only-of-type {\n",
       "        vertical-align: middle;\n",
       "    }\n",
       "\n",
       "    .dataframe tbody tr th {\n",
       "        vertical-align: top;\n",
       "    }\n",
       "\n",
       "    .dataframe thead th {\n",
       "        text-align: right;\n",
       "    }\n",
       "</style>\n",
       "<table border=\"1\" class=\"dataframe\">\n",
       "  <thead>\n",
       "    <tr style=\"text-align: right;\">\n",
       "      <th></th>\n",
       "      <th>EducationSector</th>\n",
       "      <th>IndividualProject</th>\n",
       "      <th>Age</th>\n",
       "      <th>Gender</th>\n",
       "      <th>City</th>\n",
       "      <th>Influenced</th>\n",
       "      <th>Perseverance</th>\n",
       "      <th>DesireToTakeInitiative</th>\n",
       "      <th>Competitiveness</th>\n",
       "      <th>SelfReliance</th>\n",
       "      <th>StrongNeedToAchieve</th>\n",
       "      <th>SelfConfidence</th>\n",
       "      <th>GoodPhysicalHealth</th>\n",
       "      <th>MentalDisorder</th>\n",
       "      <th>KeyTraits</th>\n",
       "      <th>ReasonsForLack</th>\n",
       "      <th>y</th>\n",
       "    </tr>\n",
       "  </thead>\n",
       "  <tbody>\n",
       "    <tr>\n",
       "      <th>0</th>\n",
       "      <td>Engineering Sciences</td>\n",
       "      <td>No</td>\n",
       "      <td>19</td>\n",
       "      <td>Male</td>\n",
       "      <td>Yes</td>\n",
       "      <td>No</td>\n",
       "      <td>2</td>\n",
       "      <td>2</td>\n",
       "      <td>3</td>\n",
       "      <td>3</td>\n",
       "      <td>2</td>\n",
       "      <td>2</td>\n",
       "      <td>3</td>\n",
       "      <td>Yes</td>\n",
       "      <td>Passion</td>\n",
       "      <td>Desconhecido</td>\n",
       "      <td>1</td>\n",
       "    </tr>\n",
       "    <tr>\n",
       "      <th>1</th>\n",
       "      <td>Engineering Sciences</td>\n",
       "      <td>Yes</td>\n",
       "      <td>22</td>\n",
       "      <td>Male</td>\n",
       "      <td>No</td>\n",
       "      <td>Yes</td>\n",
       "      <td>3</td>\n",
       "      <td>3</td>\n",
       "      <td>3</td>\n",
       "      <td>4</td>\n",
       "      <td>4</td>\n",
       "      <td>3</td>\n",
       "      <td>4</td>\n",
       "      <td>Yes</td>\n",
       "      <td>Vision</td>\n",
       "      <td>Just not interested! (Want to work in the corp...</td>\n",
       "      <td>0</td>\n",
       "    </tr>\n",
       "    <tr>\n",
       "      <th>2</th>\n",
       "      <td>Engineering Sciences</td>\n",
       "      <td>No</td>\n",
       "      <td>18</td>\n",
       "      <td>Male</td>\n",
       "      <td>Yes</td>\n",
       "      <td>No</td>\n",
       "      <td>3</td>\n",
       "      <td>4</td>\n",
       "      <td>3</td>\n",
       "      <td>3</td>\n",
       "      <td>3</td>\n",
       "      <td>4</td>\n",
       "      <td>4</td>\n",
       "      <td>No</td>\n",
       "      <td>Passion</td>\n",
       "      <td>Not willing to start a venture in India and wa...</td>\n",
       "      <td>0</td>\n",
       "    </tr>\n",
       "    <tr>\n",
       "      <th>3</th>\n",
       "      <td>Engineering Sciences</td>\n",
       "      <td>Yes</td>\n",
       "      <td>20</td>\n",
       "      <td>Male</td>\n",
       "      <td>Yes</td>\n",
       "      <td>Yes</td>\n",
       "      <td>3</td>\n",
       "      <td>3</td>\n",
       "      <td>3</td>\n",
       "      <td>3</td>\n",
       "      <td>4</td>\n",
       "      <td>3</td>\n",
       "      <td>3</td>\n",
       "      <td>No</td>\n",
       "      <td>Resilience</td>\n",
       "      <td>Not able to take a Financial Risk</td>\n",
       "      <td>0</td>\n",
       "    </tr>\n",
       "    <tr>\n",
       "      <th>4</th>\n",
       "      <td>Engineering Sciences</td>\n",
       "      <td>Yes</td>\n",
       "      <td>19</td>\n",
       "      <td>Male</td>\n",
       "      <td>Yes</td>\n",
       "      <td>Yes</td>\n",
       "      <td>2</td>\n",
       "      <td>3</td>\n",
       "      <td>3</td>\n",
       "      <td>3</td>\n",
       "      <td>4</td>\n",
       "      <td>3</td>\n",
       "      <td>2</td>\n",
       "      <td>Yes</td>\n",
       "      <td>Vision</td>\n",
       "      <td>Desconhecido</td>\n",
       "      <td>1</td>\n",
       "    </tr>\n",
       "  </tbody>\n",
       "</table>\n",
       "</div>"
      ],
      "text/plain": [
       "        EducationSector IndividualProject  Age Gender City Influenced  \\\n",
       "0  Engineering Sciences                No   19   Male  Yes         No   \n",
       "1  Engineering Sciences               Yes   22   Male   No        Yes   \n",
       "2  Engineering Sciences                No   18   Male  Yes         No   \n",
       "3  Engineering Sciences               Yes   20   Male  Yes        Yes   \n",
       "4  Engineering Sciences               Yes   19   Male  Yes        Yes   \n",
       "\n",
       "   Perseverance  DesireToTakeInitiative  Competitiveness  SelfReliance  \\\n",
       "0             2                       2                3             3   \n",
       "1             3                       3                3             4   \n",
       "2             3                       4                3             3   \n",
       "3             3                       3                3             3   \n",
       "4             2                       3                3             3   \n",
       "\n",
       "   StrongNeedToAchieve  SelfConfidence  GoodPhysicalHealth MentalDisorder  \\\n",
       "0                    2               2                   3            Yes   \n",
       "1                    4               3                   4            Yes   \n",
       "2                    3               4                   4             No   \n",
       "3                    4               3                   3             No   \n",
       "4                    4               3                   2            Yes   \n",
       "\n",
       "    KeyTraits                                     ReasonsForLack  y  \n",
       "0     Passion                                       Desconhecido  1  \n",
       "1      Vision  Just not interested! (Want to work in the corp...  0  \n",
       "2     Passion  Not willing to start a venture in India and wa...  0  \n",
       "3  Resilience                  Not able to take a Financial Risk  0  \n",
       "4      Vision                                       Desconhecido  1  "
      ]
     },
     "execution_count": 51,
     "metadata": {},
     "output_type": "execute_result"
    }
   ],
   "source": [
    "data.head()"
   ]
  },
  {
   "cell_type": "code",
   "execution_count": 52,
   "id": "ca878168",
   "metadata": {},
   "outputs": [
    {
     "data": {
      "text/plain": [
       "['EducationSector',\n",
       " 'IndividualProject',\n",
       " 'Age',\n",
       " 'Gender',\n",
       " 'City',\n",
       " 'Influenced',\n",
       " 'Perseverance',\n",
       " 'DesireToTakeInitiative',\n",
       " 'Competitiveness',\n",
       " 'SelfReliance',\n",
       " 'StrongNeedToAchieve',\n",
       " 'SelfConfidence',\n",
       " 'GoodPhysicalHealth',\n",
       " 'MentalDisorder',\n",
       " 'KeyTraits',\n",
       " 'ReasonsForLack',\n",
       " 'y']"
      ]
     },
     "execution_count": 52,
     "metadata": {},
     "output_type": "execute_result"
    }
   ],
   "source": [
    "list(data)"
   ]
  },
  {
   "cell_type": "code",
   "execution_count": 53,
   "id": "fb1603b6",
   "metadata": {},
   "outputs": [],
   "source": [
    "data_num = data.drop(['EducationSector', 'Age', 'Gender', 'City','MentalDisorder'], axis = 1)"
   ]
  },
  {
   "cell_type": "code",
   "execution_count": 54,
   "id": "0cf9475a",
   "metadata": {
    "scrolled": true
   },
   "outputs": [
    {
     "data": {
      "text/html": [
       "<div>\n",
       "<style scoped>\n",
       "    .dataframe tbody tr th:only-of-type {\n",
       "        vertical-align: middle;\n",
       "    }\n",
       "\n",
       "    .dataframe tbody tr th {\n",
       "        vertical-align: top;\n",
       "    }\n",
       "\n",
       "    .dataframe thead th {\n",
       "        text-align: right;\n",
       "    }\n",
       "</style>\n",
       "<table border=\"1\" class=\"dataframe\">\n",
       "  <thead>\n",
       "    <tr style=\"text-align: right;\">\n",
       "      <th></th>\n",
       "      <th>IndividualProject</th>\n",
       "      <th>Influenced</th>\n",
       "      <th>Perseverance</th>\n",
       "      <th>DesireToTakeInitiative</th>\n",
       "      <th>Competitiveness</th>\n",
       "      <th>SelfReliance</th>\n",
       "      <th>StrongNeedToAchieve</th>\n",
       "      <th>SelfConfidence</th>\n",
       "      <th>GoodPhysicalHealth</th>\n",
       "      <th>KeyTraits</th>\n",
       "      <th>ReasonsForLack</th>\n",
       "      <th>y</th>\n",
       "    </tr>\n",
       "  </thead>\n",
       "  <tbody>\n",
       "    <tr>\n",
       "      <th>0</th>\n",
       "      <td>No</td>\n",
       "      <td>No</td>\n",
       "      <td>2</td>\n",
       "      <td>2</td>\n",
       "      <td>3</td>\n",
       "      <td>3</td>\n",
       "      <td>2</td>\n",
       "      <td>2</td>\n",
       "      <td>3</td>\n",
       "      <td>Passion</td>\n",
       "      <td>Desconhecido</td>\n",
       "      <td>1</td>\n",
       "    </tr>\n",
       "    <tr>\n",
       "      <th>1</th>\n",
       "      <td>Yes</td>\n",
       "      <td>Yes</td>\n",
       "      <td>3</td>\n",
       "      <td>3</td>\n",
       "      <td>3</td>\n",
       "      <td>4</td>\n",
       "      <td>4</td>\n",
       "      <td>3</td>\n",
       "      <td>4</td>\n",
       "      <td>Vision</td>\n",
       "      <td>Just not interested! (Want to work in the corp...</td>\n",
       "      <td>0</td>\n",
       "    </tr>\n",
       "    <tr>\n",
       "      <th>2</th>\n",
       "      <td>No</td>\n",
       "      <td>No</td>\n",
       "      <td>3</td>\n",
       "      <td>4</td>\n",
       "      <td>3</td>\n",
       "      <td>3</td>\n",
       "      <td>3</td>\n",
       "      <td>4</td>\n",
       "      <td>4</td>\n",
       "      <td>Passion</td>\n",
       "      <td>Not willing to start a venture in India and wa...</td>\n",
       "      <td>0</td>\n",
       "    </tr>\n",
       "    <tr>\n",
       "      <th>3</th>\n",
       "      <td>Yes</td>\n",
       "      <td>Yes</td>\n",
       "      <td>3</td>\n",
       "      <td>3</td>\n",
       "      <td>3</td>\n",
       "      <td>3</td>\n",
       "      <td>4</td>\n",
       "      <td>3</td>\n",
       "      <td>3</td>\n",
       "      <td>Resilience</td>\n",
       "      <td>Not able to take a Financial Risk</td>\n",
       "      <td>0</td>\n",
       "    </tr>\n",
       "    <tr>\n",
       "      <th>4</th>\n",
       "      <td>Yes</td>\n",
       "      <td>Yes</td>\n",
       "      <td>2</td>\n",
       "      <td>3</td>\n",
       "      <td>3</td>\n",
       "      <td>3</td>\n",
       "      <td>4</td>\n",
       "      <td>3</td>\n",
       "      <td>2</td>\n",
       "      <td>Vision</td>\n",
       "      <td>Desconhecido</td>\n",
       "      <td>1</td>\n",
       "    </tr>\n",
       "  </tbody>\n",
       "</table>\n",
       "</div>"
      ],
      "text/plain": [
       "  IndividualProject Influenced  Perseverance  DesireToTakeInitiative  \\\n",
       "0                No         No             2                       2   \n",
       "1               Yes        Yes             3                       3   \n",
       "2                No         No             3                       4   \n",
       "3               Yes        Yes             3                       3   \n",
       "4               Yes        Yes             2                       3   \n",
       "\n",
       "   Competitiveness  SelfReliance  StrongNeedToAchieve  SelfConfidence  \\\n",
       "0                3             3                    2               2   \n",
       "1                3             4                    4               3   \n",
       "2                3             3                    3               4   \n",
       "3                3             3                    4               3   \n",
       "4                3             3                    4               3   \n",
       "\n",
       "   GoodPhysicalHealth   KeyTraits  \\\n",
       "0                   3     Passion   \n",
       "1                   4      Vision   \n",
       "2                   4     Passion   \n",
       "3                   3  Resilience   \n",
       "4                   2      Vision   \n",
       "\n",
       "                                      ReasonsForLack  y  \n",
       "0                                       Desconhecido  1  \n",
       "1  Just not interested! (Want to work in the corp...  0  \n",
       "2  Not willing to start a venture in India and wa...  0  \n",
       "3                  Not able to take a Financial Risk  0  \n",
       "4                                       Desconhecido  1  "
      ]
     },
     "execution_count": 54,
     "metadata": {},
     "output_type": "execute_result"
    }
   ],
   "source": [
    "data_num.head()"
   ]
  },
  {
   "cell_type": "code",
   "execution_count": 55,
   "id": "f8faf71c",
   "metadata": {},
   "outputs": [
    {
     "data": {
      "text/html": [
       "<div>\n",
       "<style scoped>\n",
       "    .dataframe tbody tr th:only-of-type {\n",
       "        vertical-align: middle;\n",
       "    }\n",
       "\n",
       "    .dataframe tbody tr th {\n",
       "        vertical-align: top;\n",
       "    }\n",
       "\n",
       "    .dataframe thead th {\n",
       "        text-align: right;\n",
       "    }\n",
       "</style>\n",
       "<table border=\"1\" class=\"dataframe\">\n",
       "  <thead>\n",
       "    <tr style=\"text-align: right;\">\n",
       "      <th></th>\n",
       "      <th>Perseverance</th>\n",
       "      <th>DesireToTakeInitiative</th>\n",
       "      <th>Competitiveness</th>\n",
       "      <th>SelfReliance</th>\n",
       "      <th>StrongNeedToAchieve</th>\n",
       "      <th>SelfConfidence</th>\n",
       "      <th>GoodPhysicalHealth</th>\n",
       "      <th>y</th>\n",
       "    </tr>\n",
       "  </thead>\n",
       "  <tbody>\n",
       "    <tr>\n",
       "      <th>Perseverance</th>\n",
       "      <td>1.000000</td>\n",
       "      <td>0.644626</td>\n",
       "      <td>0.712176</td>\n",
       "      <td>0.662511</td>\n",
       "      <td>0.630872</td>\n",
       "      <td>0.591310</td>\n",
       "      <td>0.489082</td>\n",
       "      <td>0.028037</td>\n",
       "    </tr>\n",
       "    <tr>\n",
       "      <th>DesireToTakeInitiative</th>\n",
       "      <td>0.644626</td>\n",
       "      <td>1.000000</td>\n",
       "      <td>0.709056</td>\n",
       "      <td>0.619094</td>\n",
       "      <td>0.596888</td>\n",
       "      <td>0.638758</td>\n",
       "      <td>0.505063</td>\n",
       "      <td>0.092578</td>\n",
       "    </tr>\n",
       "    <tr>\n",
       "      <th>Competitiveness</th>\n",
       "      <td>0.712176</td>\n",
       "      <td>0.709056</td>\n",
       "      <td>1.000000</td>\n",
       "      <td>0.669914</td>\n",
       "      <td>0.584374</td>\n",
       "      <td>0.600111</td>\n",
       "      <td>0.538735</td>\n",
       "      <td>0.028401</td>\n",
       "    </tr>\n",
       "    <tr>\n",
       "      <th>SelfReliance</th>\n",
       "      <td>0.662511</td>\n",
       "      <td>0.619094</td>\n",
       "      <td>0.669914</td>\n",
       "      <td>1.000000</td>\n",
       "      <td>0.691219</td>\n",
       "      <td>0.614498</td>\n",
       "      <td>0.535205</td>\n",
       "      <td>0.082386</td>\n",
       "    </tr>\n",
       "    <tr>\n",
       "      <th>StrongNeedToAchieve</th>\n",
       "      <td>0.630872</td>\n",
       "      <td>0.596888</td>\n",
       "      <td>0.584374</td>\n",
       "      <td>0.691219</td>\n",
       "      <td>1.000000</td>\n",
       "      <td>0.622491</td>\n",
       "      <td>0.538856</td>\n",
       "      <td>0.075438</td>\n",
       "    </tr>\n",
       "    <tr>\n",
       "      <th>SelfConfidence</th>\n",
       "      <td>0.591310</td>\n",
       "      <td>0.638758</td>\n",
       "      <td>0.600111</td>\n",
       "      <td>0.614498</td>\n",
       "      <td>0.622491</td>\n",
       "      <td>1.000000</td>\n",
       "      <td>0.607560</td>\n",
       "      <td>0.088249</td>\n",
       "    </tr>\n",
       "    <tr>\n",
       "      <th>GoodPhysicalHealth</th>\n",
       "      <td>0.489082</td>\n",
       "      <td>0.505063</td>\n",
       "      <td>0.538735</td>\n",
       "      <td>0.535205</td>\n",
       "      <td>0.538856</td>\n",
       "      <td>0.607560</td>\n",
       "      <td>1.000000</td>\n",
       "      <td>0.108800</td>\n",
       "    </tr>\n",
       "    <tr>\n",
       "      <th>y</th>\n",
       "      <td>0.028037</td>\n",
       "      <td>0.092578</td>\n",
       "      <td>0.028401</td>\n",
       "      <td>0.082386</td>\n",
       "      <td>0.075438</td>\n",
       "      <td>0.088249</td>\n",
       "      <td>0.108800</td>\n",
       "      <td>1.000000</td>\n",
       "    </tr>\n",
       "  </tbody>\n",
       "</table>\n",
       "</div>"
      ],
      "text/plain": [
       "                        Perseverance  DesireToTakeInitiative  Competitiveness  \\\n",
       "Perseverance                1.000000                0.644626         0.712176   \n",
       "DesireToTakeInitiative      0.644626                1.000000         0.709056   \n",
       "Competitiveness             0.712176                0.709056         1.000000   \n",
       "SelfReliance                0.662511                0.619094         0.669914   \n",
       "StrongNeedToAchieve         0.630872                0.596888         0.584374   \n",
       "SelfConfidence              0.591310                0.638758         0.600111   \n",
       "GoodPhysicalHealth          0.489082                0.505063         0.538735   \n",
       "y                           0.028037                0.092578         0.028401   \n",
       "\n",
       "                        SelfReliance  StrongNeedToAchieve  SelfConfidence  \\\n",
       "Perseverance                0.662511             0.630872        0.591310   \n",
       "DesireToTakeInitiative      0.619094             0.596888        0.638758   \n",
       "Competitiveness             0.669914             0.584374        0.600111   \n",
       "SelfReliance                1.000000             0.691219        0.614498   \n",
       "StrongNeedToAchieve         0.691219             1.000000        0.622491   \n",
       "SelfConfidence              0.614498             0.622491        1.000000   \n",
       "GoodPhysicalHealth          0.535205             0.538856        0.607560   \n",
       "y                           0.082386             0.075438        0.088249   \n",
       "\n",
       "                        GoodPhysicalHealth         y  \n",
       "Perseverance                      0.489082  0.028037  \n",
       "DesireToTakeInitiative            0.505063  0.092578  \n",
       "Competitiveness                   0.538735  0.028401  \n",
       "SelfReliance                      0.535205  0.082386  \n",
       "StrongNeedToAchieve               0.538856  0.075438  \n",
       "SelfConfidence                    0.607560  0.088249  \n",
       "GoodPhysicalHealth                1.000000  0.108800  \n",
       "y                                 0.108800  1.000000  "
      ]
     },
     "execution_count": 55,
     "metadata": {},
     "output_type": "execute_result"
    }
   ],
   "source": [
    "data_num.corr()"
   ]
  },
  {
   "cell_type": "code",
   "execution_count": 56,
   "id": "1345586e",
   "metadata": {},
   "outputs": [
    {
     "data": {
      "image/png": "[encoded data removed]",
      "text/plain": [
       "<Figure size 432x288 with 1 Axes>"
      ]
     },
     "metadata": {
      "needs_background": "light"
     },
     "output_type": "display_data"
    }
   ],
   "source": [
    "plt.hist(data_num.GoodPhysicalHealth, bins = 30)\n",
    "plt.title(\"Good Physical Health distribution\")\n",
    "plt.show()"
   ]
  },
  {
   "cell_type": "code",
   "execution_count": 57,
   "id": "1f3eabb6",
   "metadata": {},
   "outputs": [],
   "source": [
    "data_num_fil1 = data_num[data_num.y == 1]"
   ]
  },
  {
   "cell_type": "code",
   "execution_count": 58,
   "id": "0a8578d4",
   "metadata": {},
   "outputs": [
    {
     "data": {
      "image/png": "[encoded data removed]",
      "text/plain": [
       "<Figure size 432x288 with 1 Axes>"
      ]
     },
     "metadata": {
      "needs_background": "light"
     },
     "output_type": "display_data"
    }
   ],
   "source": [
    "plt.hist(data_num_fil1.GoodPhysicalHealth, bins = 30)\n",
    "plt.title(\"Good Physical Health distribution, where target  == 1\")\n",
    "plt.show()"
   ]
  },
  {
   "cell_type": "code",
   "execution_count": 59,
   "id": "10e742b2",
   "metadata": {},
   "outputs": [],
   "source": [
    "pers_fil = round(data_num.GoodPhysicalHealth.value_counts()/data_num.GoodPhysicalHealth.shape[0],2)"
   ]
  },
  {
   "cell_type": "code",
   "execution_count": 60,
   "id": "a15a9087",
   "metadata": {},
   "outputs": [],
   "source": [
    "pers_fil1 = round(data_num_fil1.GoodPhysicalHealth.value_counts()/data_num_fil1.GoodPhysicalHealth.shape[0],2)"
   ]
  },
  {
   "cell_type": "code",
   "execution_count": 61,
   "id": "0f6e3f61",
   "metadata": {},
   "outputs": [
    {
     "data": {
      "text/plain": [
       "4    0.30\n",
       "3    0.29\n",
       "5    0.24\n",
       "2    0.15\n",
       "1    0.03\n",
       "Name: GoodPhysicalHealth, dtype: float64"
      ]
     },
     "execution_count": 61,
     "metadata": {},
     "output_type": "execute_result"
    }
   ],
   "source": [
    "pers_fil"
   ]
  },
  {
   "cell_type": "code",
   "execution_count": 62,
   "id": "daf5b3cd",
   "metadata": {},
   "outputs": [
    {
     "data": {
      "text/plain": [
       "5    0.33\n",
       "3    0.31\n",
       "4    0.22\n",
       "2    0.11\n",
       "1    0.03\n",
       "Name: GoodPhysicalHealth, dtype: float64"
      ]
     },
     "execution_count": 62,
     "metadata": {},
     "output_type": "execute_result"
    }
   ],
   "source": [
    "pers_fil1"
   ]
  },
  {
   "cell_type": "code",
   "execution_count": 63,
   "id": "311462b3",
   "metadata": {},
   "outputs": [
    {
     "data": {
      "text/plain": [
       "['IndividualProject',\n",
       " 'Influenced',\n",
       " 'Perseverance',\n",
       " 'DesireToTakeInitiative',\n",
       " 'Competitiveness',\n",
       " 'SelfReliance',\n",
       " 'StrongNeedToAchieve',\n",
       " 'SelfConfidence',\n",
       " 'GoodPhysicalHealth',\n",
       " 'KeyTraits',\n",
       " 'ReasonsForLack',\n",
       " 'y']"
      ]
     },
     "execution_count": 63,
     "metadata": {},
     "output_type": "execute_result"
    }
   ],
   "source": [
    "list(data_num)"
   ]
  },
  {
   "cell_type": "code",
   "execution_count": 64,
   "id": "a4009ab0",
   "metadata": {},
   "outputs": [],
   "source": [
    "def plot_features(df, df_filtered, columns):\n",
    "    df_original = df.copy()\n",
    "    df2 = df_filtered.copy()\n",
    "    \n",
    "    for column in columns:\n",
    "        a = df_original[column]\n",
    "        b = df2[column]\n",
    "        \n",
    "        fig = plt.figure(figsize=(15,5)) #tamanho do frame \n",
    "        plt.subplots_adjust(wspace= 0.5) #espaço entre os graficos\n",
    "        plt.suptitle('Comparation between Different Features on \"y general\" and \"y == 1\"') \n",
    "        plt.subplot(1,2,2)\n",
    "        plt.bar(a.unique(), round(a.value_counts()/a.shape[0],2), color = 'green')\n",
    "        plt.title(\"Comparation between \" + column + \" on 'y == 1'\")\n",
    "        plt.subplot(1,2,1)\n",
    "        plt.bar(b.unique(), round(a.value_counts()/b.shape[0],2), color = 'grey')\n",
    "        plt.title(\"Comparation between \" + column + \" Full dataset\")\n",
    "        plt.show()"
   ]
  },
  {
   "cell_type": "code",
   "execution_count": 65,
   "id": "886db58f",
   "metadata": {},
   "outputs": [
    {
     "data": {
      "image/png": "[encoded data removed]",
      "text/plain": [
       "<Figure size 1080x360 with 2 Axes>"
      ]
     },
     "metadata": {
      "needs_background": "light"
     },
     "output_type": "display_data"
    },
    {
     "data": {
      "image/png": "[encoded data removed]",
      "text/plain": [
       "<Figure size 1080x360 with 2 Axes>"
      ]
     },
     "metadata": {
      "needs_background": "light"
     },
     "output_type": "display_data"
    },
    {
     "data": {
      "image/png": "[encoded data removed]",
      "text/plain": [
       "<Figure size 1080x360 with 2 Axes>"
      ]
     },
     "metadata": {
      "needs_background": "light"
     },
     "output_type": "display_data"
    },
    {
     "data": {
      "image/png": "[encoded data removed]",
      "text/plain": [
       "<Figure size 1080x360 with 2 Axes>"
      ]
     },
     "metadata": {
      "needs_background": "light"
     },
     "output_type": "display_data"
    },
    {
     "data": {
      "image/png": "[encoded data removed]",
      "text/plain": [
       "<Figure size 1080x360 with 2 Axes>"
      ]
     },
     "metadata": {
      "needs_background": "light"
     },
     "output_type": "display_data"
    },
    {
     "data": {
      "image/png": "[encoded data removed]",
      "text/plain": [
       "<Figure size 1080x360 with 2 Axes>"
      ]
     },
     "metadata": {
      "needs_background": "light"
     },
     "output_type": "display_data"
    },
    {
     "data": {
      "image/png": "[encoded data removed]",
      "text/plain": [
       "<Figure size 1080x360 with 2 Axes>"
      ]
     },
     "metadata": {
      "needs_background": "light"
     },
     "output_type": "display_data"
    }
   ],
   "source": [
    "plot_features(data_num,data_num_fil1,columns=['Influenced',\n",
    "                                            'Perseverance',\n",
    "                                            'DesireToTakeInitiative',\n",
    "                                            'Competitiveness',\n",
    "                                            'SelfReliance',\n",
    "                                            'StrongNeedToAchieve',\n",
    "                                            'SelfConfidence'])"
   ]
  },
  {
   "cell_type": "markdown",
   "id": "f96b89af",
   "metadata": {},
   "source": [
    "### Data Transformation and Preprocessing"
   ]
  },
  {
   "cell_type": "code",
   "execution_count": 66,
   "id": "11d25972",
   "metadata": {},
   "outputs": [
    {
     "data": {
      "text/plain": [
       "(219, 12)"
      ]
     },
     "execution_count": 66,
     "metadata": {},
     "output_type": "execute_result"
    }
   ],
   "source": [
    "data_num.shape"
   ]
  },
  {
   "cell_type": "code",
   "execution_count": 67,
   "id": "451252f3",
   "metadata": {},
   "outputs": [
    {
     "data": {
      "text/plain": [
       "IndividualProject         object\n",
       "Influenced                object\n",
       "Perseverance               int64\n",
       "DesireToTakeInitiative     int64\n",
       "Competitiveness            int64\n",
       "SelfReliance               int64\n",
       "StrongNeedToAchieve        int64\n",
       "SelfConfidence             int64\n",
       "GoodPhysicalHealth         int64\n",
       "KeyTraits                 object\n",
       "ReasonsForLack            object\n",
       "y                          int64\n",
       "dtype: object"
      ]
     },
     "execution_count": 67,
     "metadata": {},
     "output_type": "execute_result"
    }
   ],
   "source": [
    "data_num.dtypes"
   ]
  },
  {
   "cell_type": "code",
   "execution_count": 68,
   "id": "8c8e25f6",
   "metadata": {},
   "outputs": [],
   "source": [
    "from sklearn.preprocessing import OneHotEncoder"
   ]
  },
  {
   "cell_type": "code",
   "execution_count": 69,
   "id": "b24d18b7",
   "metadata": {},
   "outputs": [],
   "source": [
    "X = data_num.drop(['y', 'Influenced', 'ReasonsForLack'], axis = 1)"
   ]
  },
  {
   "cell_type": "code",
   "execution_count": 70,
   "id": "4e5a1432",
   "metadata": {},
   "outputs": [],
   "source": [
    "def ohe_drop(data, columns):\n",
    "    df = data.copy()\n",
    "    ohe = OneHotEncoder()\n",
    "    for column in columns:\n",
    "        var_ohe = df[column].values.reshape(-1,1)\n",
    "        ohe.fit(var_ohe)\n",
    "        ohe.transform(var_ohe)\n",
    "        OHE = pd.DataFrame(ohe.transform(var_ohe).toarray(), \n",
    "                             columns = ohe.categories_[0].tolist())\n",
    "        df = pd.concat([df, OHE], axis = 1)\n",
    "        df = df.drop([column],axis = 1)\n",
    "    return df\n",
    "        "
   ]
  },
  {
   "cell_type": "code",
   "execution_count": 71,
   "id": "91f72958",
   "metadata": {},
   "outputs": [],
   "source": [
    "X = ohe_drop(data_num, columns =['Perseverance',\n",
    "                            'DesireToTakeInitiative',\n",
    "                            'Competitiveness',\n",
    "                            'SelfReliance',\n",
    "                            'StrongNeedToAchieve',\n",
    "                            'SelfConfidence',\n",
    "                            'GoodPhysicalHealth',\n",
    "                            'Influenced',\n",
    "                            'KeyTraits'] )"
   ]
  },
  {
   "cell_type": "code",
   "execution_count": 72,
   "id": "3f1ae66b",
   "metadata": {},
   "outputs": [
    {
     "data": {
      "text/html": [
       "<div>\n",
       "<style scoped>\n",
       "    .dataframe tbody tr th:only-of-type {\n",
       "        vertical-align: middle;\n",
       "    }\n",
       "\n",
       "    .dataframe tbody tr th {\n",
       "        vertical-align: top;\n",
       "    }\n",
       "\n",
       "    .dataframe thead th {\n",
       "        text-align: right;\n",
       "    }\n",
       "</style>\n",
       "<table border=\"1\" class=\"dataframe\">\n",
       "  <thead>\n",
       "    <tr style=\"text-align: right;\">\n",
       "      <th></th>\n",
       "      <th>IndividualProject</th>\n",
       "      <th>ReasonsForLack</th>\n",
       "      <th>y</th>\n",
       "      <th>1</th>\n",
       "      <th>2</th>\n",
       "      <th>3</th>\n",
       "      <th>4</th>\n",
       "      <th>5</th>\n",
       "      <th>1</th>\n",
       "      <th>2</th>\n",
       "      <th>...</th>\n",
       "      <th>3</th>\n",
       "      <th>4</th>\n",
       "      <th>5</th>\n",
       "      <th>No</th>\n",
       "      <th>Yes</th>\n",
       "      <th>Passion</th>\n",
       "      <th>Positivity</th>\n",
       "      <th>Resilience</th>\n",
       "      <th>Vision</th>\n",
       "      <th>Work Ethic</th>\n",
       "    </tr>\n",
       "  </thead>\n",
       "  <tbody>\n",
       "    <tr>\n",
       "      <th>0</th>\n",
       "      <td>No</td>\n",
       "      <td>Desconhecido</td>\n",
       "      <td>1</td>\n",
       "      <td>0.0</td>\n",
       "      <td>1.0</td>\n",
       "      <td>0.0</td>\n",
       "      <td>0.0</td>\n",
       "      <td>0.0</td>\n",
       "      <td>0.0</td>\n",
       "      <td>1.0</td>\n",
       "      <td>...</td>\n",
       "      <td>1.0</td>\n",
       "      <td>0.0</td>\n",
       "      <td>0.0</td>\n",
       "      <td>1.0</td>\n",
       "      <td>0.0</td>\n",
       "      <td>1.0</td>\n",
       "      <td>0.0</td>\n",
       "      <td>0.0</td>\n",
       "      <td>0.0</td>\n",
       "      <td>0.0</td>\n",
       "    </tr>\n",
       "    <tr>\n",
       "      <th>1</th>\n",
       "      <td>Yes</td>\n",
       "      <td>Just not interested! (Want to work in the corp...</td>\n",
       "      <td>0</td>\n",
       "      <td>0.0</td>\n",
       "      <td>0.0</td>\n",
       "      <td>1.0</td>\n",
       "      <td>0.0</td>\n",
       "      <td>0.0</td>\n",
       "      <td>0.0</td>\n",
       "      <td>0.0</td>\n",
       "      <td>...</td>\n",
       "      <td>0.0</td>\n",
       "      <td>1.0</td>\n",
       "      <td>0.0</td>\n",
       "      <td>0.0</td>\n",
       "      <td>1.0</td>\n",
       "      <td>0.0</td>\n",
       "      <td>0.0</td>\n",
       "      <td>0.0</td>\n",
       "      <td>1.0</td>\n",
       "      <td>0.0</td>\n",
       "    </tr>\n",
       "    <tr>\n",
       "      <th>2</th>\n",
       "      <td>No</td>\n",
       "      <td>Not willing to start a venture in India and wa...</td>\n",
       "      <td>0</td>\n",
       "      <td>0.0</td>\n",
       "      <td>0.0</td>\n",
       "      <td>1.0</td>\n",
       "      <td>0.0</td>\n",
       "      <td>0.0</td>\n",
       "      <td>0.0</td>\n",
       "      <td>0.0</td>\n",
       "      <td>...</td>\n",
       "      <td>0.0</td>\n",
       "      <td>1.0</td>\n",
       "      <td>0.0</td>\n",
       "      <td>1.0</td>\n",
       "      <td>0.0</td>\n",
       "      <td>1.0</td>\n",
       "      <td>0.0</td>\n",
       "      <td>0.0</td>\n",
       "      <td>0.0</td>\n",
       "      <td>0.0</td>\n",
       "    </tr>\n",
       "    <tr>\n",
       "      <th>3</th>\n",
       "      <td>Yes</td>\n",
       "      <td>Not able to take a Financial Risk</td>\n",
       "      <td>0</td>\n",
       "      <td>0.0</td>\n",
       "      <td>0.0</td>\n",
       "      <td>1.0</td>\n",
       "      <td>0.0</td>\n",
       "      <td>0.0</td>\n",
       "      <td>0.0</td>\n",
       "      <td>0.0</td>\n",
       "      <td>...</td>\n",
       "      <td>1.0</td>\n",
       "      <td>0.0</td>\n",
       "      <td>0.0</td>\n",
       "      <td>0.0</td>\n",
       "      <td>1.0</td>\n",
       "      <td>0.0</td>\n",
       "      <td>0.0</td>\n",
       "      <td>1.0</td>\n",
       "      <td>0.0</td>\n",
       "      <td>0.0</td>\n",
       "    </tr>\n",
       "    <tr>\n",
       "      <th>4</th>\n",
       "      <td>Yes</td>\n",
       "      <td>Desconhecido</td>\n",
       "      <td>1</td>\n",
       "      <td>0.0</td>\n",
       "      <td>1.0</td>\n",
       "      <td>0.0</td>\n",
       "      <td>0.0</td>\n",
       "      <td>0.0</td>\n",
       "      <td>0.0</td>\n",
       "      <td>0.0</td>\n",
       "      <td>...</td>\n",
       "      <td>0.0</td>\n",
       "      <td>0.0</td>\n",
       "      <td>0.0</td>\n",
       "      <td>0.0</td>\n",
       "      <td>1.0</td>\n",
       "      <td>0.0</td>\n",
       "      <td>0.0</td>\n",
       "      <td>0.0</td>\n",
       "      <td>1.0</td>\n",
       "      <td>0.0</td>\n",
       "    </tr>\n",
       "    <tr>\n",
       "      <th>...</th>\n",
       "      <td>...</td>\n",
       "      <td>...</td>\n",
       "      <td>...</td>\n",
       "      <td>...</td>\n",
       "      <td>...</td>\n",
       "      <td>...</td>\n",
       "      <td>...</td>\n",
       "      <td>...</td>\n",
       "      <td>...</td>\n",
       "      <td>...</td>\n",
       "      <td>...</td>\n",
       "      <td>...</td>\n",
       "      <td>...</td>\n",
       "      <td>...</td>\n",
       "      <td>...</td>\n",
       "      <td>...</td>\n",
       "      <td>...</td>\n",
       "      <td>...</td>\n",
       "      <td>...</td>\n",
       "      <td>...</td>\n",
       "      <td>...</td>\n",
       "    </tr>\n",
       "    <tr>\n",
       "      <th>214</th>\n",
       "      <td>Yes</td>\n",
       "      <td>Desconhecido</td>\n",
       "      <td>1</td>\n",
       "      <td>0.0</td>\n",
       "      <td>0.0</td>\n",
       "      <td>0.0</td>\n",
       "      <td>1.0</td>\n",
       "      <td>0.0</td>\n",
       "      <td>0.0</td>\n",
       "      <td>0.0</td>\n",
       "      <td>...</td>\n",
       "      <td>0.0</td>\n",
       "      <td>0.0</td>\n",
       "      <td>1.0</td>\n",
       "      <td>0.0</td>\n",
       "      <td>1.0</td>\n",
       "      <td>0.0</td>\n",
       "      <td>1.0</td>\n",
       "      <td>0.0</td>\n",
       "      <td>0.0</td>\n",
       "      <td>0.0</td>\n",
       "    </tr>\n",
       "    <tr>\n",
       "      <th>215</th>\n",
       "      <td>Yes</td>\n",
       "      <td>Just not interested! (Want to work in the corp...</td>\n",
       "      <td>0</td>\n",
       "      <td>0.0</td>\n",
       "      <td>1.0</td>\n",
       "      <td>0.0</td>\n",
       "      <td>0.0</td>\n",
       "      <td>0.0</td>\n",
       "      <td>0.0</td>\n",
       "      <td>1.0</td>\n",
       "      <td>...</td>\n",
       "      <td>0.0</td>\n",
       "      <td>0.0</td>\n",
       "      <td>0.0</td>\n",
       "      <td>1.0</td>\n",
       "      <td>0.0</td>\n",
       "      <td>0.0</td>\n",
       "      <td>0.0</td>\n",
       "      <td>0.0</td>\n",
       "      <td>0.0</td>\n",
       "      <td>1.0</td>\n",
       "    </tr>\n",
       "    <tr>\n",
       "      <th>216</th>\n",
       "      <td>Yes</td>\n",
       "      <td>Desconhecido</td>\n",
       "      <td>1</td>\n",
       "      <td>0.0</td>\n",
       "      <td>0.0</td>\n",
       "      <td>1.0</td>\n",
       "      <td>0.0</td>\n",
       "      <td>0.0</td>\n",
       "      <td>0.0</td>\n",
       "      <td>0.0</td>\n",
       "      <td>...</td>\n",
       "      <td>1.0</td>\n",
       "      <td>0.0</td>\n",
       "      <td>0.0</td>\n",
       "      <td>0.0</td>\n",
       "      <td>1.0</td>\n",
       "      <td>0.0</td>\n",
       "      <td>0.0</td>\n",
       "      <td>0.0</td>\n",
       "      <td>1.0</td>\n",
       "      <td>0.0</td>\n",
       "    </tr>\n",
       "    <tr>\n",
       "      <th>217</th>\n",
       "      <td>No</td>\n",
       "      <td>Lack of Knowledge</td>\n",
       "      <td>0</td>\n",
       "      <td>1.0</td>\n",
       "      <td>0.0</td>\n",
       "      <td>0.0</td>\n",
       "      <td>0.0</td>\n",
       "      <td>0.0</td>\n",
       "      <td>0.0</td>\n",
       "      <td>1.0</td>\n",
       "      <td>...</td>\n",
       "      <td>0.0</td>\n",
       "      <td>0.0</td>\n",
       "      <td>0.0</td>\n",
       "      <td>1.0</td>\n",
       "      <td>0.0</td>\n",
       "      <td>1.0</td>\n",
       "      <td>0.0</td>\n",
       "      <td>0.0</td>\n",
       "      <td>0.0</td>\n",
       "      <td>0.0</td>\n",
       "    </tr>\n",
       "    <tr>\n",
       "      <th>218</th>\n",
       "      <td>Yes</td>\n",
       "      <td>Desconhecido</td>\n",
       "      <td>1</td>\n",
       "      <td>0.0</td>\n",
       "      <td>0.0</td>\n",
       "      <td>1.0</td>\n",
       "      <td>0.0</td>\n",
       "      <td>0.0</td>\n",
       "      <td>0.0</td>\n",
       "      <td>0.0</td>\n",
       "      <td>...</td>\n",
       "      <td>0.0</td>\n",
       "      <td>0.0</td>\n",
       "      <td>0.0</td>\n",
       "      <td>0.0</td>\n",
       "      <td>1.0</td>\n",
       "      <td>1.0</td>\n",
       "      <td>0.0</td>\n",
       "      <td>0.0</td>\n",
       "      <td>0.0</td>\n",
       "      <td>0.0</td>\n",
       "    </tr>\n",
       "  </tbody>\n",
       "</table>\n",
       "<p>219 rows × 45 columns</p>\n",
       "</div>"
      ],
      "text/plain": [
       "    IndividualProject                                     ReasonsForLack  y  \\\n",
       "0                  No                                       Desconhecido  1   \n",
       "1                 Yes  Just not interested! (Want to work in the corp...  0   \n",
       "2                  No  Not willing to start a venture in India and wa...  0   \n",
       "3                 Yes                  Not able to take a Financial Risk  0   \n",
       "4                 Yes                                       Desconhecido  1   \n",
       "..                ...                                                ... ..   \n",
       "214               Yes                                       Desconhecido  1   \n",
       "215               Yes  Just not interested! (Want to work in the corp...  0   \n",
       "216               Yes                                       Desconhecido  1   \n",
       "217                No                                  Lack of Knowledge  0   \n",
       "218               Yes                                       Desconhecido  1   \n",
       "\n",
       "       1    2    3    4    5    1    2  ...    3    4    5   No  Yes  Passion  \\\n",
       "0    0.0  1.0  0.0  0.0  0.0  0.0  1.0  ...  1.0  0.0  0.0  1.0  0.0      1.0   \n",
       "1    0.0  0.0  1.0  0.0  0.0  0.0  0.0  ...  0.0  1.0  0.0  0.0  1.0      0.0   \n",
       "2    0.0  0.0  1.0  0.0  0.0  0.0  0.0  ...  0.0  1.0  0.0  1.0  0.0      1.0   \n",
       "3    0.0  0.0  1.0  0.0  0.0  0.0  0.0  ...  1.0  0.0  0.0  0.0  1.0      0.0   \n",
       "4    0.0  1.0  0.0  0.0  0.0  0.0  0.0  ...  0.0  0.0  0.0  0.0  1.0      0.0   \n",
       "..   ...  ...  ...  ...  ...  ...  ...  ...  ...  ...  ...  ...  ...      ...   \n",
       "214  0.0  0.0  0.0  1.0  0.0  0.0  0.0  ...  0.0  0.0  1.0  0.0  1.0      0.0   \n",
       "215  0.0  1.0  0.0  0.0  0.0  0.0  1.0  ...  0.0  0.0  0.0  1.0  0.0      0.0   \n",
       "216  0.0  0.0  1.0  0.0  0.0  0.0  0.0  ...  1.0  0.0  0.0  0.0  1.0      0.0   \n",
       "217  1.0  0.0  0.0  0.0  0.0  0.0  1.0  ...  0.0  0.0  0.0  1.0  0.0      1.0   \n",
       "218  0.0  0.0  1.0  0.0  0.0  0.0  0.0  ...  0.0  0.0  0.0  0.0  1.0      1.0   \n",
       "\n",
       "     Positivity  Resilience  Vision  Work Ethic  \n",
       "0           0.0         0.0     0.0         0.0  \n",
       "1           0.0         0.0     1.0         0.0  \n",
       "2           0.0         0.0     0.0         0.0  \n",
       "3           0.0         1.0     0.0         0.0  \n",
       "4           0.0         0.0     1.0         0.0  \n",
       "..          ...         ...     ...         ...  \n",
       "214         1.0         0.0     0.0         0.0  \n",
       "215         0.0         0.0     0.0         1.0  \n",
       "216         0.0         0.0     1.0         0.0  \n",
       "217         0.0         0.0     0.0         0.0  \n",
       "218         0.0         0.0     0.0         0.0  \n",
       "\n",
       "[219 rows x 45 columns]"
      ]
     },
     "execution_count": 72,
     "metadata": {},
     "output_type": "execute_result"
    }
   ],
   "source": [
    "X"
   ]
  },
  {
   "cell_type": "code",
   "execution_count": 73,
   "id": "cfd717f8",
   "metadata": {},
   "outputs": [],
   "source": [
    "X = X.drop(['y', 'ReasonsForLack', 'IndividualProject'], axis = 1)"
   ]
  },
  {
   "cell_type": "code",
   "execution_count": 74,
   "id": "7715f1db",
   "metadata": {},
   "outputs": [],
   "source": [
    "y = np.array(data_num.y)"
   ]
  },
  {
   "cell_type": "code",
   "execution_count": 75,
   "id": "fa5e7d33",
   "metadata": {},
   "outputs": [
    {
     "data": {
      "text/plain": [
       "(219, 42)"
      ]
     },
     "execution_count": 75,
     "metadata": {},
     "output_type": "execute_result"
    }
   ],
   "source": [
    "X.shape"
   ]
  },
  {
   "cell_type": "code",
   "execution_count": 76,
   "id": "3673c402",
   "metadata": {},
   "outputs": [
    {
     "data": {
      "text/plain": [
       "(219,)"
      ]
     },
     "execution_count": 76,
     "metadata": {},
     "output_type": "execute_result"
    }
   ],
   "source": [
    "y.shape"
   ]
  },
  {
   "cell_type": "code",
   "execution_count": 77,
   "id": "c7a57ebb",
   "metadata": {},
   "outputs": [],
   "source": [
    "X = np.array(X)"
   ]
  },
  {
   "cell_type": "code",
   "execution_count": 78,
   "id": "bd56749f",
   "metadata": {},
   "outputs": [
    {
     "data": {
      "text/plain": [
       "numpy.ndarray"
      ]
     },
     "execution_count": 78,
     "metadata": {},
     "output_type": "execute_result"
    }
   ],
   "source": [
    "type(X)"
   ]
  },
  {
   "cell_type": "code",
   "execution_count": 79,
   "id": "9a1c666d",
   "metadata": {},
   "outputs": [],
   "source": [
    "from sklearn.model_selection import train_test_split"
   ]
  },
  {
   "cell_type": "code",
   "execution_count": 80,
   "id": "3481cd2f",
   "metadata": {},
   "outputs": [],
   "source": [
    "X_train, X_test, y_train, y_test = train_test_split(X,y, test_size = 0.30, random_state = 0)"
   ]
  },
  {
   "cell_type": "code",
   "execution_count": 81,
   "id": "22836245",
   "metadata": {},
   "outputs": [
    {
     "data": {
      "text/plain": [
       "(153, 42)"
      ]
     },
     "execution_count": 81,
     "metadata": {},
     "output_type": "execute_result"
    }
   ],
   "source": [
    "X_train.shape"
   ]
  },
  {
   "cell_type": "code",
   "execution_count": 82,
   "id": "8509680e",
   "metadata": {},
   "outputs": [
    {
     "data": {
      "text/plain": [
       "(66, 42)"
      ]
     },
     "execution_count": 82,
     "metadata": {},
     "output_type": "execute_result"
    }
   ],
   "source": [
    "X_test.shape"
   ]
  },
  {
   "cell_type": "code",
   "execution_count": 83,
   "id": "250c5ea9",
   "metadata": {},
   "outputs": [
    {
     "data": {
      "text/plain": [
       "(153,)"
      ]
     },
     "execution_count": 83,
     "metadata": {},
     "output_type": "execute_result"
    }
   ],
   "source": [
    " y_train.shape"
   ]
  },
  {
   "cell_type": "code",
   "execution_count": 84,
   "id": "71a7a8c1",
   "metadata": {},
   "outputs": [
    {
     "data": {
      "text/plain": [
       "(66,)"
      ]
     },
     "execution_count": 84,
     "metadata": {},
     "output_type": "execute_result"
    }
   ],
   "source": [
    " y_test.shape"
   ]
  },
  {
   "cell_type": "markdown",
   "id": "7d32745b",
   "metadata": {},
   "source": [
    "### Logistic Regression"
   ]
  },
  {
   "cell_type": "code",
   "execution_count": 85,
   "id": "aa5921aa",
   "metadata": {},
   "outputs": [],
   "source": [
    "from sklearn.linear_model import LogisticRegression"
   ]
  },
  {
   "cell_type": "code",
   "execution_count": 86,
   "id": "6b3f746c",
   "metadata": {},
   "outputs": [
    {
     "data": {
      "text/plain": [
       "LogisticRegression()"
      ]
     },
     "execution_count": 86,
     "metadata": {},
     "output_type": "execute_result"
    }
   ],
   "source": [
    "logreg = LogisticRegression()\n",
    "logreg.fit(X_train, y_train)"
   ]
  },
  {
   "cell_type": "code",
   "execution_count": 87,
   "id": "6339d8c9",
   "metadata": {},
   "outputs": [
    {
     "data": {
      "text/plain": [
       "array([0, 1, 1, 0, 0, 1, 0, 0, 0, 0, 0, 1, 0, 1, 0, 0, 0, 0, 0, 1, 0, 0,\n",
       "       0, 0, 1, 0, 1, 0, 1, 0, 0, 0, 1, 1, 0, 0, 1, 0, 0, 0, 0, 0, 1, 0,\n",
       "       0, 0, 1, 1, 0, 0, 0, 0, 0, 1, 0, 0, 0, 1, 0, 0, 0, 0, 0, 0, 0, 1,\n",
       "       1, 1, 1, 1, 0, 0, 1, 0, 1, 1, 0, 1, 1, 0, 0, 0, 1, 0, 0, 1, 0, 0,\n",
       "       0, 0, 1, 0, 0, 1, 1, 1, 1, 0, 0, 0, 1, 1, 0, 0, 0, 0, 1, 1, 0, 1,\n",
       "       0, 0, 1, 0, 1, 0, 0, 1, 0, 0, 1, 1, 0, 1, 0, 0, 1, 1, 0, 0, 0, 1,\n",
       "       1, 0, 1, 0, 0, 1, 0, 0, 0, 0, 1, 0, 0, 1, 1, 1, 0, 0, 0, 1, 1],\n",
       "      dtype=int64)"
      ]
     },
     "execution_count": 87,
     "metadata": {},
     "output_type": "execute_result"
    }
   ],
   "source": [
    "logreg.predict(X_train)"
   ]
  },
  {
   "cell_type": "code",
   "execution_count": 88,
   "id": "62a03da2",
   "metadata": {},
   "outputs": [
    {
     "data": {
      "text/plain": [
       "array([0, 1, 1, 0, 0, 1, 0, 0, 0, 0, 0, 1, 0, 1, 0, 0, 0, 0, 0, 1],\n",
       "      dtype=int64)"
      ]
     },
     "execution_count": 88,
     "metadata": {},
     "output_type": "execute_result"
    }
   ],
   "source": [
    "logreg.predict(X_train)[:20]"
   ]
  },
  {
   "cell_type": "code",
   "execution_count": 89,
   "id": "ddc56561",
   "metadata": {},
   "outputs": [
    {
     "data": {
      "text/plain": [
       "array([1, 1, 0, 0, 0, 1, 1, 0, 0, 0, 0, 1, 0, 1, 0, 1, 1, 0, 0, 1],\n",
       "      dtype=int64)"
      ]
     },
     "execution_count": 89,
     "metadata": {},
     "output_type": "execute_result"
    }
   ],
   "source": [
    "y_train[:20]"
   ]
  },
  {
   "cell_type": "markdown",
   "id": "4d575eaa",
   "metadata": {},
   "source": [
    "### Performance metrics calculation"
   ]
  },
  {
   "cell_type": "markdown",
   "id": "be1b39c4",
   "metadata": {},
   "source": [
    "Accuracy Score"
   ]
  },
  {
   "cell_type": "markdown",
   "id": "967c4a66",
   "metadata": {},
   "source": [
    "Transformar df em matrix"
   ]
  },
  {
   "cell_type": "code",
   "execution_count": 90,
   "id": "bc087877",
   "metadata": {},
   "outputs": [],
   "source": [
    "from sklearn.metrics import accuracy_score"
   ]
  },
  {
   "cell_type": "code",
   "execution_count": 91,
   "id": "cda01030",
   "metadata": {},
   "outputs": [
    {
     "data": {
      "text/plain": [
       "0.7973856209150327"
      ]
     },
     "execution_count": 91,
     "metadata": {},
     "output_type": "execute_result"
    }
   ],
   "source": [
    "accuracy_score(y_true = y_train, y_pred = logreg.predict(X_train))"
   ]
  },
  {
   "cell_type": "markdown",
   "id": "97b475ef",
   "metadata": {},
   "source": [
    "Cross Validation"
   ]
  },
  {
   "cell_type": "code",
   "execution_count": 92,
   "id": "e1df57ff",
   "metadata": {},
   "outputs": [],
   "source": [
    "from sklearn.model_selection import KFold"
   ]
  },
  {
   "cell_type": "code",
   "execution_count": 93,
   "id": "97ac6444",
   "metadata": {},
   "outputs": [],
   "source": [
    "kf = KFold(n_splits = 3)"
   ]
  },
  {
   "cell_type": "code",
   "execution_count": 94,
   "id": "7f079d56",
   "metadata": {},
   "outputs": [],
   "source": [
    "classif= LogisticRegression()"
   ]
  },
  {
   "cell_type": "code",
   "execution_count": 95,
   "id": "4a8046db",
   "metadata": {},
   "outputs": [
    {
     "name": "stdout",
     "output_type": "stream",
     "text": [
      "acurácias em treino: \n",
      " [0.8431372549019608, 0.7647058823529411, 0.7941176470588235]  \n",
      "| média:  0.8006535947712418\n",
      "\n",
      "acurácias em validação: \n",
      " [0.5098039215686274, 0.6862745098039216, 0.6274509803921569]  \n",
      "| média:  0.6078431372549019\n"
     ]
    }
   ],
   "source": [
    "\n",
    "train_accuracy_list = []\n",
    "val_accuracy_list = []\n",
    "\n",
    "for train_idx, val_idx in kf.split(X_train, y_train):\n",
    "    Xtrain_folds = X_train[train_idx]\n",
    "    ytrain_folds = y_train[train_idx]\n",
    "    Xval_fold = X_train[val_idx]\n",
    "    yval_fold = y_train[val_idx]\n",
    "    \n",
    "    classif.fit(Xtrain_folds,ytrain_folds)\n",
    "    train_pred = classif.predict(Xtrain_folds)\n",
    "    pred_validacao = classif.predict(Xval_fold)\n",
    "    \n",
    "    train_accuracy_list.append(accuracy_score(y_pred = train_pred, y_true = ytrain_folds))\n",
    "    val_accuracy_list.append(accuracy_score(y_pred = pred_validacao, y_true = yval_fold))\n",
    "print(\"acurácias em treino: \\n\", train_accuracy_list, \" \\n| média: \", np.mean(train_accuracy_list))\n",
    "print()\n",
    "print(\"acurácias em validação: \\n\", val_accuracy_list, \" \\n| média: \", np.mean(val_accuracy_list))"
   ]
  },
  {
   "cell_type": "code",
   "execution_count": 96,
   "id": "1381de59",
   "metadata": {},
   "outputs": [],
   "source": [
    "from sklearn.metrics import confusion_matrix"
   ]
  },
  {
   "cell_type": "code",
   "execution_count": 97,
   "id": "5fbabb46",
   "metadata": {},
   "outputs": [
    {
     "data": {
      "text/plain": [
       "array([[77, 12],\n",
       "       [19, 45]], dtype=int64)"
      ]
     },
     "execution_count": 97,
     "metadata": {},
     "output_type": "execute_result"
    }
   ],
   "source": [
    "confusion_matrix(y_true = y_train, y_pred = logreg.predict(X_train))"
   ]
  },
  {
   "cell_type": "code",
   "execution_count": 98,
   "id": "7b1e976a",
   "metadata": {},
   "outputs": [],
   "source": [
    "cm = confusion_matrix(y_true = y_train, y_pred = logreg.predict(X_train))"
   ]
  },
  {
   "cell_type": "code",
   "execution_count": 99,
   "id": "6fdb2e53",
   "metadata": {},
   "outputs": [
    {
     "data": {
      "text/plain": [
       "0.703125"
      ]
     },
     "execution_count": 99,
     "metadata": {},
     "output_type": "execute_result"
    }
   ],
   "source": [
    "cm[1,1] / cm[1, :].sum()"
   ]
  },
  {
   "cell_type": "code",
   "execution_count": 100,
   "id": "d9b1141d",
   "metadata": {
    "scrolled": true
   },
   "outputs": [
    {
     "data": {
      "text/plain": [
       "0.7894736842105263"
      ]
     },
     "execution_count": 100,
     "metadata": {},
     "output_type": "execute_result"
    }
   ],
   "source": [
    "cm[1,1] / cm[:, 1].sum()"
   ]
  },
  {
   "cell_type": "code",
   "execution_count": 101,
   "id": "73c8549f",
   "metadata": {},
   "outputs": [],
   "source": [
    "from sklearn.metrics import precision_score, recall_score"
   ]
  },
  {
   "cell_type": "code",
   "execution_count": 102,
   "id": "69cba7f4",
   "metadata": {},
   "outputs": [],
   "source": [
    "from sklearn.metrics import f1_score"
   ]
  },
  {
   "cell_type": "code",
   "execution_count": 103,
   "id": "af48b3a5",
   "metadata": {},
   "outputs": [
    {
     "data": {
      "text/plain": [
       "0.743801652892562"
      ]
     },
     "execution_count": 103,
     "metadata": {},
     "output_type": "execute_result"
    }
   ],
   "source": [
    "f1_score(y_true = y_train, y_pred = logreg.predict(X_train))"
   ]
  },
  {
   "cell_type": "markdown",
   "id": "8238c6fc",
   "metadata": {},
   "source": [
    "### Y test Predict"
   ]
  },
  {
   "cell_type": "code",
   "execution_count": 104,
   "id": "2462216a",
   "metadata": {},
   "outputs": [
    {
     "data": {
      "text/plain": [
       "array([1, 0, 1, 0, 1, 1, 1, 0, 0, 0, 1, 0, 0, 0, 1, 0, 1, 0, 0, 0, 0, 1,\n",
       "       0, 0, 0, 0, 0, 0, 0, 0, 0, 1, 0, 0, 1, 1, 0, 0, 0, 1, 1, 0, 0, 1,\n",
       "       0, 0, 0, 0, 0, 0, 1, 0, 1, 1, 0, 0, 1, 0, 1, 0, 0, 0, 1, 0, 0, 1],\n",
       "      dtype=int64)"
      ]
     },
     "execution_count": 104,
     "metadata": {},
     "output_type": "execute_result"
    }
   ],
   "source": [
    "logreg.predict(X_test)"
   ]
  },
  {
   "cell_type": "code",
   "execution_count": 105,
   "id": "dd3b7a3e",
   "metadata": {},
   "outputs": [
    {
     "data": {
      "text/plain": [
       "0.5306122448979591"
      ]
     },
     "execution_count": 105,
     "metadata": {},
     "output_type": "execute_result"
    }
   ],
   "source": [
    "f1_score(y_true = y_test, y_pred = logreg.predict(X_test))"
   ]
  },
  {
   "cell_type": "markdown",
   "id": "5b05a82e",
   "metadata": {},
   "source": [
    "The predict of \"y_test\" is too low, so I'll optimize the model"
   ]
  },
  {
   "cell_type": "markdown",
   "id": "77962063",
   "metadata": {},
   "source": [
    "### Model Optimization"
   ]
  },
  {
   "cell_type": "code",
   "execution_count": 106,
   "id": "b75d4ca6",
   "metadata": {},
   "outputs": [],
   "source": [
    "from sklearn.feature_selection import SelectKBest, chi2"
   ]
  },
  {
   "cell_type": "code",
   "execution_count": 108,
   "id": "5e59a0e5",
   "metadata": {},
   "outputs": [],
   "source": [
    "def try_k(x, y, n):\n",
    "    the_best = SelectKBest(score_func = chi2, k =n)\n",
    "    fit = the_best.fit(x, y)\n",
    "    features = fit.transform(x)\n",
    "    logreg.fit(features,y)\n",
    "    preds = logreg.predict(features)\n",
    "    f1 = f1_score(y_true = y, y_pred = preds)\n",
    "    precision = precision_score(y_true = y, y_pred = preds)\n",
    "    recall = recall_score(y_true = y, y_pred = preds)\n",
    "    return preds, f1, precision, recall"
   ]
  },
  {
   "cell_type": "code",
   "execution_count": 109,
   "id": "3ff163df",
   "metadata": {},
   "outputs": [],
   "source": [
    "for n in n_list:\n",
    "    preds,f1, precision, recall = try_k(X_test, y_test, n)   "
   ]
  },
  {
   "cell_type": "code",
   "execution_count": 110,
   "id": "2a088b9e",
   "metadata": {},
   "outputs": [
    {
     "data": {
      "text/plain": [
       "0.6666666666666666"
      ]
     },
     "execution_count": 110,
     "metadata": {},
     "output_type": "execute_result"
    }
   ],
   "source": [
    "f1"
   ]
  },
  {
   "cell_type": "code",
   "execution_count": 111,
   "id": "e3038173",
   "metadata": {},
   "outputs": [
    {
     "data": {
      "text/plain": [
       "0.7619047619047619"
      ]
     },
     "execution_count": 111,
     "metadata": {},
     "output_type": "execute_result"
    }
   ],
   "source": [
    "precision"
   ]
  },
  {
   "cell_type": "code",
   "execution_count": 112,
   "id": "7ef387fe",
   "metadata": {},
   "outputs": [
    {
     "data": {
      "text/plain": [
       "0.5925925925925926"
      ]
     },
     "execution_count": 112,
     "metadata": {},
     "output_type": "execute_result"
    }
   ],
   "source": [
    "recall"
   ]
  },
  {
   "cell_type": "code",
   "execution_count": 113,
   "id": "cbc76a0d",
   "metadata": {},
   "outputs": [],
   "source": [
    "from sklearn.metrics import classification_report, plot_confusion_matrix,plot_roc_curve"
   ]
  },
  {
   "cell_type": "code",
   "execution_count": 118,
   "id": "a8cc333a",
   "metadata": {},
   "outputs": [],
   "source": [
    "the_best = SelectKBest(score_func = chi2, k =30)\n",
    "fit = the_best.fit(X_test, y_test)\n",
    "feature = fit.transform(X_test)\n",
    "preds = logreg.predict(feature)"
   ]
  },
  {
   "cell_type": "code",
   "execution_count": 119,
   "id": "0af747b5",
   "metadata": {},
   "outputs": [
    {
     "data": {
      "text/plain": [
       "<sklearn.metrics._plot.confusion_matrix.ConfusionMatrixDisplay at 0x1ce2cb521f0>"
      ]
     },
     "execution_count": 119,
     "metadata": {},
     "output_type": "execute_result"
    },
    {
     "data": {
      "image/png": "[encoded data removed]",
      "text/plain": [
       "<Figure size 432x288 with 2 Axes>"
      ]
     },
     "metadata": {
      "needs_background": "light"
     },
     "output_type": "display_data"
    }
   ],
   "source": [
    "plot_confusion_matrix(logreg,features,y_test)"
   ]
  },
  {
   "cell_type": "code",
   "execution_count": 120,
   "id": "67cbc754",
   "metadata": {},
   "outputs": [
    {
     "data": {
      "text/plain": [
       "<sklearn.metrics._plot.roc_curve.RocCurveDisplay at 0x1ce32072e50>"
      ]
     },
     "execution_count": 120,
     "metadata": {},
     "output_type": "execute_result"
    },
    {
     "data": {
      "image/png": "[encoded data removed]",
      "text/plain": [
       "<Figure size 432x288 with 1 Axes>"
      ]
     },
     "metadata": {
      "needs_background": "light"
     },
     "output_type": "display_data"
    }
   ],
   "source": [
    "plot_roc_curve(logreg,features,y_test)"
   ]
  },
  {
   "cell_type": "code",
   "execution_count": 121,
   "id": "bf22210f",
   "metadata": {
    "scrolled": true
   },
   "outputs": [
    {
     "name": "stdout",
     "output_type": "stream",
     "text": [
      "              precision    recall  f1-score   support\n",
      "\n",
      "           0       0.76      0.87      0.81        39\n",
      "           1       0.76      0.59      0.67        27\n",
      "\n",
      "    accuracy                           0.76        66\n",
      "   macro avg       0.76      0.73      0.74        66\n",
      "weighted avg       0.76      0.76      0.75        66\n",
      "\n"
     ]
    }
   ],
   "source": [
    "print(classification_report(y_test, preds))"
   ]
  },
  {
   "cell_type": "code",
   "execution_count": null,
   "id": "9276dfc4",
   "metadata": {},
   "outputs": [],
   "source": []
  }
 ],
 "metadata": {
  "kernelspec": {
   "display_name": "Python 3 (ipykernel)",
   "language": "python",
   "name": "python3"
  },
  "language_info": {
   "codemirror_mode": {
    "name": "ipython",
    "version": 3
   },
   "file_extension": ".py",
   "mimetype": "text/x-python",
   "name": "python",
   "nbconvert_exporter": "python",
   "pygments_lexer": "ipython3",
   "version": "3.8.8"
  }
 },
 "nbformat": 4,
 "nbformat_minor": 5
}
